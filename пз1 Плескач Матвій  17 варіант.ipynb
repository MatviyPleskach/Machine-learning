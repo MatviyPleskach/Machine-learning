{
  "metadata": {
    "language_info": {
      "codemirror_mode": {
        "name": "python",
        "version": 3
      },
      "file_extension": ".py",
      "mimetype": "text/x-python",
      "name": "python",
      "nbconvert_exporter": "python",
      "pygments_lexer": "ipython3",
      "version": "3.8"
    },
    "kernelspec": {
      "name": "python",
      "display_name": "Python (Pyodide)",
      "language": "python"
    }
  },
  "nbformat_minor": 4,
  "nbformat": 4,
  "cells": [
    {
      "cell_type": "markdown",
      "source": "ПРАКТИЧНА РОБОТА 1. \nВступ до машинного навчання. Елементи лінійної алгебри. ",
      "metadata": {}
    },
    {
      "cell_type": "markdown",
      "source": "Номер варіанту: 17\nРоботу виконав: Плескач Матвій Русланович\nФІТ 4-6",
      "metadata": {}
    },
    {
      "cell_type": "code",
      "source": "import numpy as np",
      "metadata": {
        "trusted": true
      },
      "execution_count": 1,
      "outputs": []
    },
    {
      "cell_type": "markdown",
      "source": "1.Створіть одновимірний масив (вектор) з числами, які є квадратами натуральних чисел, починаючи з 1, та виведіть його значення.",
      "metadata": {}
    },
    {
      "cell_type": "code",
      "source": "a = np.arange(1, 11)** 2\nprint(a)",
      "metadata": {
        "trusted": true
      },
      "execution_count": 38,
      "outputs": [
        {
          "name": "stdout",
          "text": "[  1   4   9  16  25  36  49  64  81 100]\n",
          "output_type": "stream"
        }
      ]
    },
    {
      "cell_type": "markdown",
      "source": "2.Створіть двовимірний масив (матрицю) розміром 3x3, заповніть його значеннями добутків найближчих менших простих чисел для кожного натурального числа, починаючи з 1, та виведіть його значення.",
      "metadata": {}
    },
    {
      "cell_type": "code",
      "source": "",
      "metadata": {
        "trusted": true
      },
      "execution_count": null,
      "outputs": []
    },
    {
      "cell_type": "markdown",
      "source": "3.Створіть масив розміром 8x8, заповніть його випадковими натуральними числами від 1 до 10 та знайдіть середнє гармонічне його елементів.\nhmeam - harmonic_mean (середнє гармонічне)",
      "metadata": {}
    },
    {
      "cell_type": "code",
      "source": "from scipy.stats import hmean\nm = np.random.randint(1, 11, (8,8))\nprint(\"Harmonic mean\")\nprint(hmean(m))",
      "metadata": {
        "trusted": true
      },
      "execution_count": 18,
      "outputs": [
        {
          "name": "stdout",
          "text": "Harmonic mean\n[2.19035202 3.42507645 4.38356164 2.50652742 4.13199426 3.32179931\n 2.84866469 2.82076396]\n",
          "output_type": "stream"
        }
      ]
    },
    {
      "cell_type": "markdown",
      "source": "4.Створіть масив розміром 3x3, заповніть його випадковими дійсними числами в діапазоні від 0 до 10 та знайдіть вектор-стовпчик, що містить мінімальні елементи в кожному рядку.",
      "metadata": {}
    },
    {
      "cell_type": "code",
      "source": "m = np.random.uniform(0,10, (3, 3))\nprint(\"Matrix\")\nprint(m)\nmin_elements = np.min(m, axis=1)\nprint(\"Min Ele\")\nprint(min_elements)",
      "metadata": {
        "trusted": true
      },
      "execution_count": 3,
      "outputs": [
        {
          "name": "stdout",
          "text": "Matrix\n[[7.01582459 1.72531908 0.08521983]\n [5.33403569 3.69014753 8.41524948]\n [8.20186474 7.4723505  1.06188028]]\nMin Ele\n[0.08521983 3.69014753 1.06188028]\n",
          "output_type": "stream"
        }
      ]
    },
    {
      "cell_type": "markdown",
      "source": "5.Створіть два одновимірних масиви розміром 6, заповніть їх випадковими дійсними числами від 0 до 1 та виконайте на них поелементні операції додавання, віднімання ta множення",
      "metadata": {}
    },
    {
      "cell_type": "code",
      "source": "m1 = np.random.rand(6)\nm2 = np.random.rand(6)\nprint(\"mass1 = \", m1)\nprint(\"mass2 = \", m2)\n\nprint(\"mass1 + mass2 = \", m1 + m2)\nprint(\"mass1 - mass2 = \", m1 - m2)\nprint(\"mass1 * mass2 = \", m1 * m2)",
      "metadata": {
        "trusted": true
      },
      "execution_count": 14,
      "outputs": [
        {
          "name": "stdout",
          "text": "mass1 =  [0.87071542 0.73124335 0.31735579 0.56672114 0.03559767 0.1929535 ]\nmass2 =  [0.66660294 0.17830386 0.81616089 0.42522086 0.62946655 0.98188942]\nmass1 + mass2 =  [1.53731836 0.90954721 1.13351668 0.991942   0.66506422 1.17484292]\nmass1 - mass2 =  [ 0.20411247  0.55293948 -0.49880509  0.14150028 -0.59386888 -0.78893592]\nmass1 * mass2 =  [0.58042146 0.13038351 0.25901339 0.24098165 0.02240754 0.189459  ]\n",
          "output_type": "stream"
        }
      ]
    },
    {
      "cell_type": "markdown",
      "source": "6.Створіть два вектори розміром 8, заповніть їх довільними цілими числами та знайдіть їх скалярний добуток.",
      "metadata": {}
    },
    {
      "cell_type": "code",
      "source": "v1 = np.array([6, 9, 6, 1, 7, 7, 8, 1])\nv2 = np.array([8, 9, 5, 7, 4, 7, 3, 3])\n\ndot_v1_v2 = np.dot(v1, v2)\n\nprint(\"vec1 = \", v1)\nprint(\"vec2 = \", v2)\nprint(\"Scalar prod\", dot_v1_v2)",
      "metadata": {
        "trusted": true
      },
      "execution_count": 13,
      "outputs": [
        {
          "name": "stdout",
          "text": "vec1 =  [6 9 6 1 7 7 8 1]\nvec2 =  [8 9 5 7 4 7 3 3]\nScalar prod 270\n",
          "output_type": "stream"
        }
      ]
    },
    {
      "cell_type": "markdown",
      "source": "7.Створіть дві матриці розміром 3x2 та 2x4, заповніть їх випадковими цілими числами в діапазоні від 1 до 20 та перемножте їх між собою",
      "metadata": {}
    },
    {
      "cell_type": "code",
      "source": "m1 = np.random.randint(1, 20, size=(3, 2))\nm2 = np.random.randint(1, 20, size=(2, 4))\n\ndot_m1_m2 = np.dot(m1, m2)\n\nprint(\"matrix1 = \", m1)\nprint(\"matrix2 = \", m2)\nprint(\"Result\")\nprint(dot_m1_m2)",
      "metadata": {
        "trusted": true
      },
      "execution_count": 43,
      "outputs": [
        {
          "name": "stdout",
          "text": "matrix1 =  [[ 3 16]\n [16 13]\n [16  4]]\nmatrix2 =  [[15  5  3 10]\n [ 3  7 14  3]]\nResult\n[[ 93 127 233  78]\n [279 171 230 199]\n [252 108 104 172]]\n",
          "output_type": "stream"
        }
      ]
    },
    {
      "cell_type": "markdown",
      "source": "8.Створіть матрицю розміром 2x2, заповніть її випадковими цілими числами в діапазоні від 1 до 8 та знайдіть її обернену матрицю.",
      "metadata": {}
    },
    {
      "cell_type": "code",
      "source": "m = np.random.randint(1, 9, size=(2, 2))\nprint(\"Output matrix:\")\nprint(m)\nif np.linalg.det(m) == 0:\n    print(\"Can't be inverse\")\nelse:\n    inv_m = np.linalg.inv(m)\n    print(\"Inversed matrix\")\n    print(inv_m)\n",
      "metadata": {
        "trusted": true
      },
      "execution_count": 23,
      "outputs": [
        {
          "name": "stdout",
          "text": "Output matrix:\n[[4 2]\n [2 7]]\nInversed matrix\n[[ 0.29166667 -0.08333333]\n [-0.08333333  0.16666667]]\n",
          "output_type": "stream"
        }
      ]
    },
    {
      "cell_type": "markdown",
      "source": "9.Створіть матрицю розміром 3x3, заповніть її випадковими цілими числами в діапазоні від 0 до 1 та транспонуйте її.",
      "metadata": {}
    },
    {
      "cell_type": "code",
      "source": "m = np.random.rand(3, 3)\nm_transp = np.transpose(m)\nprint(m)\nprint(\"Transposed matrix\")\nprint(m_transp)",
      "metadata": {
        "trusted": true
      },
      "execution_count": 24,
      "outputs": [
        {
          "name": "stdout",
          "text": "[[0.09972266 0.6122542  0.66799516]\n [0.11432875 0.9943723  0.9849545 ]\n [0.2039491  0.84898478 0.02477567]]\nTransposed matrix\n[[0.09972266 0.11432875 0.2039491 ]\n [0.6122542  0.9943723  0.84898478]\n [0.66799516 0.9849545  0.02477567]]\n",
          "output_type": "stream"
        }
      ]
    },
    {
      "cell_type": "markdown",
      "source": "10.Створіть матрицю розміром 3x4 та вектор розміром 4, заповніть матрицю випадковими дійсними числами від 0 до 1, а вектор - випадковими цілими числами в діапазоні від 1 до 10, і знайдіть добуток матриці на вектор. ",
      "metadata": {}
    },
    {
      "cell_type": "code",
      "source": "m = np.random.rand(3, 4)\nv = np.random.randint(1, 11, 4)\nprint(\"Matrix\")\nprint(m)\nprint(\"Vector:\")\nprint(v)\n\nprint(\"Result matrix * vecotr\")\nprint(np.dot(m,v))",
      "metadata": {
        "trusted": true
      },
      "execution_count": 25,
      "outputs": [
        {
          "name": "stdout",
          "text": "Matrix\n[[0.07821042 0.82498202 0.75656365 0.70078104]\n [0.86595732 0.10854643 0.89783701 0.03354522]\n [0.45473481 0.0539255  0.21038296 0.09203637]]\nVector:\n[ 5 10  7  1]\nResult matrix * vecotr\n[14.63759885 11.73365518  4.37764614]\n",
          "output_type": "stream"
        }
      ]
    },
    {
      "cell_type": "markdown",
      "source": "11.Створіть матрицю розміром 2x3 та вектор розміром 3, заповніть матрицю випадковими цілими числами в діапазоні від 1 до 10, а вектор - випадковими цілими числами в діапазоні від 1 до 10, і знайдіть суму елементів матриці, які більше середнього значення вектору.",
      "metadata": {}
    },
    {
      "cell_type": "code",
      "source": "m = np.random.randint(1, 11, size = (2,3))\nv = np.random.randint(1, 11, 3)\navg_v = np.mean(v)\nprint (avg_v)\nresult = np.sum(m[m > avg_v])\nprint (result)",
      "metadata": {
        "trusted": true
      },
      "execution_count": 27,
      "outputs": [
        {
          "name": "stdout",
          "text": "4.333333333333333\n41\n",
          "output_type": "stream"
        }
      ]
    },
    {
      "cell_type": "markdown",
      "source": "12.Створіть дві матриці розміром 2x2, заповніть їх випадковими цілими числами в діапазоні від 1 до 10 та знайдіть суму елементів діагоналі першої матриці.",
      "metadata": {}
    },
    {
      "cell_type": "code",
      "source": "m1 = np.random.randint (1, 11, size = (2,2))\nm2 = np.random.randint (1, 11, size = (2,2))\nprint(\"Diagonal 1st matrix\")\nprint(np.diagonal(m1))\nprint(sum(np.diagonal(m1)))",
      "metadata": {
        "trusted": true
      },
      "execution_count": 28,
      "outputs": [
        {
          "name": "stdout",
          "text": "Diagonal 1st matrix\n[9 7]\n16\n",
          "output_type": "stream"
        }
      ]
    },
    {
      "cell_type": "markdown",
      "source": "13.Створіть дві матриці розміром 9x9, заповніть їх випадковими дійсними числами в діапазоні від 0 до 1 та знайдіть суму їх елементів.",
      "metadata": {}
    },
    {
      "cell_type": "code",
      "source": "m1 = np.random.rand(9, 9)\nm2 = np.random.rand(9, 9)\nprint(sum(m1) + sum(m2))",
      "metadata": {
        "trusted": true
      },
      "execution_count": 54,
      "outputs": [
        {
          "name": "stdout",
          "text": "[ 9.29925187  8.46216118 11.02932008  9.01245948 11.75226678  8.96786785\n  8.23615434  9.27394759  8.99838697]\n",
          "output_type": "stream"
        }
      ]
    },
    {
      "cell_type": "markdown",
      "source": "14.Створіть матрицю розміром 9x9, заповніть її випадковими дійсними числами в діапазоні від -10 до 10 та знайдіть середнє геометричне значення елементів матриці. ",
      "metadata": {}
    },
    {
      "cell_type": "code",
      "source": "from scipy.stats import gmean\nm = np.random.uniform (-10, 11, size = (9,9))\nprint(\"gmean\")\nprint(gmean([m]))",
      "metadata": {
        "trusted": true
      },
      "execution_count": 7,
      "outputs": [
        {
          "name": "stdout",
          "text": "gmean\n[[        nan  7.50884512  4.54398011         nan  3.41510711  3.54374896\n          nan  6.8411767   4.85200181]\n [        nan  6.13669552         nan  1.06180002         nan  7.77288964\n   5.24315769 10.97536493  7.0484043 ]\n [ 6.62427755  3.53538554  1.26161029  9.66573174  0.44878613  7.5664206\n          nan  1.28539074  5.36740305]\n [ 9.97375388 10.5029717   9.4443928   7.48380254  0.56522665         nan\n   9.34902256  7.82202813         nan]\n [ 8.7492432   3.54384453         nan  0.31338874         nan  5.0542723\n   4.82929467 10.16780204  1.71907801]\n [        nan         nan         nan         nan  5.28415051         nan\n          nan  1.64641605         nan]\n [10.68712389         nan         nan  7.88642473  1.96757858  1.61031508\n          nan  2.94826541         nan]\n [        nan  3.39030129         nan  3.10291199         nan         nan\n   7.7083135          nan         nan]\n [ 1.76268169  2.93716475  9.27974774  8.67346305         nan  9.3991589\n   7.07313849 10.90334971  9.19490523]]\n",
          "output_type": "stream"
        }
      ]
    },
    {
      "cell_type": "markdown",
      "source": "15.Створіть матрицю розміром 3x3, заповніть її випадковими дійсними числами в діапазоні від 0 до 1 та знайдіть вектор-стовпчик, що містить кількість додатних елементів в кожному рядку матриці.",
      "metadata": {}
    },
    {
      "cell_type": "code",
      "source": "m = np.random.rand(3,3)\nprint (np.sum(m > 0, axis=1))",
      "metadata": {
        "trusted": true
      },
      "execution_count": 12,
      "outputs": [
        {
          "name": "stdout",
          "text": "[3 3 3]\n",
          "output_type": "stream"
        }
      ]
    },
    {
      "cell_type": "markdown",
      "source": "Висновок: Під час виконання практичної роботи, отримав навички зі створення матриць, масивів, векторів заповненими випадковими числами, за допомогою функцій  np.random.rand ( генерує випадкові числа з рівномірним розподілом на інтервалі [0, 1).) . np.random.randint (генерує випадкові цілі числа в заданому діапазоні). Навчився знаходити середнє гармонічне за допомогою імпорту бібліотеки SciPy (для обчислення гармонічного середнього значення), знаходження вектор-стовпчик, що містить мінімальні елементи в кожному рядку, по елементні операції додавання, віднімання тa множення масивів, знаходження оберненої та транспонованої матриці.",
      "metadata": {}
    }
  ]
}