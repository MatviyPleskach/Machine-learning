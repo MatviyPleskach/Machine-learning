{
 "cells": [
  {
   "cell_type": "markdown",
   "source": [
    "ПРАКТИЧНА РОБОТА 3. Аналіз даних. Робота даними csv\n",
    "Роботу виконав: Плескач Матвій Русланович ФІТ 4-6"
   ],
   "metadata": {
    "collapsed": false
   }
  },
  {
   "cell_type": "code",
   "execution_count": 24,
   "metadata": {
    "collapsed": true,
    "ExecuteTime": {
     "start_time": "2023-09-25T16:16:42.078301Z",
     "end_time": "2023-09-25T16:16:42.093791Z"
    }
   },
   "outputs": [],
   "source": [
    "import numpy as np\n",
    "import pandas as pd\n",
    "import matplotlib.pyplot as plt"
   ]
  },
  {
   "cell_type": "markdown",
   "source": [
    "1.Прочитайте CSV файл (використовуйте метод read_csv):"
   ],
   "metadata": {
    "collapsed": false
   }
  },
  {
   "cell_type": "code",
   "execution_count": 2,
   "outputs": [
    {
     "data": {
      "text/plain": "     rank                    Youtuber  subscribers   video views   \n0       1                    T-Series    245000000  2.280000e+11  \\\n1       2              YouTube Movies    170000000  0.000000e+00   \n2       3                     MrBeast    166000000  2.836884e+10   \n3       4  Cocomelon - Nursery Rhymes    162000000  1.640000e+11   \n4       5                   SET India    159000000  1.480000e+11   \n..    ...                         ...          ...           ...   \n990   991               Natan por Aï¿     12300000  9.029610e+09   \n991   992    Free Fire India Official     12300000  1.674410e+09   \n992   993                       Panda     12300000  2.214684e+09   \n993   994                 RobTopGames     12300000  3.741235e+08   \n994   995                Make Joke Of     12300000  2.129774e+09   \n\n             category                       Title  uploads         Country   \n0               Music                    T-Series    20082           India  \\\n1    Film & Animation               youtubemovies        1   United States   \n2       Entertainment                     MrBeast      741   United States   \n3           Education  Cocomelon - Nursery Rhymes      966   United States   \n4               Shows                   SET India   116536           India   \n..                ...                         ...      ...             ...   \n990            Sports               Natan por Aï¿     1200          Brazil   \n991    People & Blogs    Free Fire India Official     1500           India   \n992               NaN                 HybridPanda     2452  United Kingdom   \n993            Gaming                 RobTopGames       39          Sweden   \n994            Comedy                Make Joke Of       62           India   \n\n    Abbreviation   channel_type  ...  subscribers_for_last_30_days   \n0             IN          Music  ...                     2000000.0  \\\n1             US          Games  ...                           NaN   \n2             US  Entertainment  ...                     8000000.0   \n3             US      Education  ...                     1000000.0   \n4             IN  Entertainment  ...                     1000000.0   \n..           ...            ...  ...                           ...   \n990           BR  Entertainment  ...                      700000.0   \n991           IN          Games  ...                      300000.0   \n992           GB          Games  ...                        1000.0   \n993           SE          Games  ...                      100000.0   \n994           IN         Comedy  ...                      100000.0   \n\n     created_year  created_month  created_date   \n0          2006.0            Mar          13.0  \\\n1          2006.0            Mar           5.0   \n2          2012.0            Feb          20.0   \n3          2006.0            Sep           1.0   \n4          2006.0            Sep          20.0   \n..            ...            ...           ...   \n990        2017.0            Feb          12.0   \n991        2018.0            Sep          14.0   \n992        2006.0            Sep          11.0   \n993        2012.0            May           9.0   \n994        2017.0            Aug           1.0   \n\n     Gross tertiary education enrollment (%)    Population  Unemployment rate   \n0                                       28.1  1.366418e+09               5.36  \\\n1                                       88.2  3.282395e+08              14.70   \n2                                       88.2  3.282395e+08              14.70   \n3                                       88.2  3.282395e+08              14.70   \n4                                       28.1  1.366418e+09               5.36   \n..                                       ...           ...                ...   \n990                                     51.3  2.125594e+08              12.08   \n991                                     28.1  1.366418e+09               5.36   \n992                                     60.0  6.683440e+07               3.85   \n993                                     67.0  1.028545e+07               6.48   \n994                                     28.1  1.366418e+09               5.36   \n\n     Urban_population   Latitude  Longitude  \n0         471031528.0  20.593684  78.962880  \n1         270663028.0  37.090240 -95.712891  \n2         270663028.0  37.090240 -95.712891  \n3         270663028.0  37.090240 -95.712891  \n4         471031528.0  20.593684  78.962880  \n..                ...        ...        ...  \n990       183241641.0 -14.235004 -51.925280  \n991       471031528.0  20.593684  78.962880  \n992        55908316.0  55.378051  -3.435973  \n993         9021165.0  60.128161  18.643501  \n994       471031528.0  20.593684  78.962880  \n\n[995 rows x 28 columns]",
      "text/html": "<div>\n<style scoped>\n    .dataframe tbody tr th:only-of-type {\n        vertical-align: middle;\n    }\n\n    .dataframe tbody tr th {\n        vertical-align: top;\n    }\n\n    .dataframe thead th {\n        text-align: right;\n    }\n</style>\n<table border=\"1\" class=\"dataframe\">\n  <thead>\n    <tr style=\"text-align: right;\">\n      <th></th>\n      <th>rank</th>\n      <th>Youtuber</th>\n      <th>subscribers</th>\n      <th>video views</th>\n      <th>category</th>\n      <th>Title</th>\n      <th>uploads</th>\n      <th>Country</th>\n      <th>Abbreviation</th>\n      <th>channel_type</th>\n      <th>...</th>\n      <th>subscribers_for_last_30_days</th>\n      <th>created_year</th>\n      <th>created_month</th>\n      <th>created_date</th>\n      <th>Gross tertiary education enrollment (%)</th>\n      <th>Population</th>\n      <th>Unemployment rate</th>\n      <th>Urban_population</th>\n      <th>Latitude</th>\n      <th>Longitude</th>\n    </tr>\n  </thead>\n  <tbody>\n    <tr>\n      <th>0</th>\n      <td>1</td>\n      <td>T-Series</td>\n      <td>245000000</td>\n      <td>2.280000e+11</td>\n      <td>Music</td>\n      <td>T-Series</td>\n      <td>20082</td>\n      <td>India</td>\n      <td>IN</td>\n      <td>Music</td>\n      <td>...</td>\n      <td>2000000.0</td>\n      <td>2006.0</td>\n      <td>Mar</td>\n      <td>13.0</td>\n      <td>28.1</td>\n      <td>1.366418e+09</td>\n      <td>5.36</td>\n      <td>471031528.0</td>\n      <td>20.593684</td>\n      <td>78.962880</td>\n    </tr>\n    <tr>\n      <th>1</th>\n      <td>2</td>\n      <td>YouTube Movies</td>\n      <td>170000000</td>\n      <td>0.000000e+00</td>\n      <td>Film &amp; Animation</td>\n      <td>youtubemovies</td>\n      <td>1</td>\n      <td>United States</td>\n      <td>US</td>\n      <td>Games</td>\n      <td>...</td>\n      <td>NaN</td>\n      <td>2006.0</td>\n      <td>Mar</td>\n      <td>5.0</td>\n      <td>88.2</td>\n      <td>3.282395e+08</td>\n      <td>14.70</td>\n      <td>270663028.0</td>\n      <td>37.090240</td>\n      <td>-95.712891</td>\n    </tr>\n    <tr>\n      <th>2</th>\n      <td>3</td>\n      <td>MrBeast</td>\n      <td>166000000</td>\n      <td>2.836884e+10</td>\n      <td>Entertainment</td>\n      <td>MrBeast</td>\n      <td>741</td>\n      <td>United States</td>\n      <td>US</td>\n      <td>Entertainment</td>\n      <td>...</td>\n      <td>8000000.0</td>\n      <td>2012.0</td>\n      <td>Feb</td>\n      <td>20.0</td>\n      <td>88.2</td>\n      <td>3.282395e+08</td>\n      <td>14.70</td>\n      <td>270663028.0</td>\n      <td>37.090240</td>\n      <td>-95.712891</td>\n    </tr>\n    <tr>\n      <th>3</th>\n      <td>4</td>\n      <td>Cocomelon - Nursery Rhymes</td>\n      <td>162000000</td>\n      <td>1.640000e+11</td>\n      <td>Education</td>\n      <td>Cocomelon - Nursery Rhymes</td>\n      <td>966</td>\n      <td>United States</td>\n      <td>US</td>\n      <td>Education</td>\n      <td>...</td>\n      <td>1000000.0</td>\n      <td>2006.0</td>\n      <td>Sep</td>\n      <td>1.0</td>\n      <td>88.2</td>\n      <td>3.282395e+08</td>\n      <td>14.70</td>\n      <td>270663028.0</td>\n      <td>37.090240</td>\n      <td>-95.712891</td>\n    </tr>\n    <tr>\n      <th>4</th>\n      <td>5</td>\n      <td>SET India</td>\n      <td>159000000</td>\n      <td>1.480000e+11</td>\n      <td>Shows</td>\n      <td>SET India</td>\n      <td>116536</td>\n      <td>India</td>\n      <td>IN</td>\n      <td>Entertainment</td>\n      <td>...</td>\n      <td>1000000.0</td>\n      <td>2006.0</td>\n      <td>Sep</td>\n      <td>20.0</td>\n      <td>28.1</td>\n      <td>1.366418e+09</td>\n      <td>5.36</td>\n      <td>471031528.0</td>\n      <td>20.593684</td>\n      <td>78.962880</td>\n    </tr>\n    <tr>\n      <th>...</th>\n      <td>...</td>\n      <td>...</td>\n      <td>...</td>\n      <td>...</td>\n      <td>...</td>\n      <td>...</td>\n      <td>...</td>\n      <td>...</td>\n      <td>...</td>\n      <td>...</td>\n      <td>...</td>\n      <td>...</td>\n      <td>...</td>\n      <td>...</td>\n      <td>...</td>\n      <td>...</td>\n      <td>...</td>\n      <td>...</td>\n      <td>...</td>\n      <td>...</td>\n      <td>...</td>\n    </tr>\n    <tr>\n      <th>990</th>\n      <td>991</td>\n      <td>Natan por Aï¿</td>\n      <td>12300000</td>\n      <td>9.029610e+09</td>\n      <td>Sports</td>\n      <td>Natan por Aï¿</td>\n      <td>1200</td>\n      <td>Brazil</td>\n      <td>BR</td>\n      <td>Entertainment</td>\n      <td>...</td>\n      <td>700000.0</td>\n      <td>2017.0</td>\n      <td>Feb</td>\n      <td>12.0</td>\n      <td>51.3</td>\n      <td>2.125594e+08</td>\n      <td>12.08</td>\n      <td>183241641.0</td>\n      <td>-14.235004</td>\n      <td>-51.925280</td>\n    </tr>\n    <tr>\n      <th>991</th>\n      <td>992</td>\n      <td>Free Fire India Official</td>\n      <td>12300000</td>\n      <td>1.674410e+09</td>\n      <td>People &amp; Blogs</td>\n      <td>Free Fire India Official</td>\n      <td>1500</td>\n      <td>India</td>\n      <td>IN</td>\n      <td>Games</td>\n      <td>...</td>\n      <td>300000.0</td>\n      <td>2018.0</td>\n      <td>Sep</td>\n      <td>14.0</td>\n      <td>28.1</td>\n      <td>1.366418e+09</td>\n      <td>5.36</td>\n      <td>471031528.0</td>\n      <td>20.593684</td>\n      <td>78.962880</td>\n    </tr>\n    <tr>\n      <th>992</th>\n      <td>993</td>\n      <td>Panda</td>\n      <td>12300000</td>\n      <td>2.214684e+09</td>\n      <td>NaN</td>\n      <td>HybridPanda</td>\n      <td>2452</td>\n      <td>United Kingdom</td>\n      <td>GB</td>\n      <td>Games</td>\n      <td>...</td>\n      <td>1000.0</td>\n      <td>2006.0</td>\n      <td>Sep</td>\n      <td>11.0</td>\n      <td>60.0</td>\n      <td>6.683440e+07</td>\n      <td>3.85</td>\n      <td>55908316.0</td>\n      <td>55.378051</td>\n      <td>-3.435973</td>\n    </tr>\n    <tr>\n      <th>993</th>\n      <td>994</td>\n      <td>RobTopGames</td>\n      <td>12300000</td>\n      <td>3.741235e+08</td>\n      <td>Gaming</td>\n      <td>RobTopGames</td>\n      <td>39</td>\n      <td>Sweden</td>\n      <td>SE</td>\n      <td>Games</td>\n      <td>...</td>\n      <td>100000.0</td>\n      <td>2012.0</td>\n      <td>May</td>\n      <td>9.0</td>\n      <td>67.0</td>\n      <td>1.028545e+07</td>\n      <td>6.48</td>\n      <td>9021165.0</td>\n      <td>60.128161</td>\n      <td>18.643501</td>\n    </tr>\n    <tr>\n      <th>994</th>\n      <td>995</td>\n      <td>Make Joke Of</td>\n      <td>12300000</td>\n      <td>2.129774e+09</td>\n      <td>Comedy</td>\n      <td>Make Joke Of</td>\n      <td>62</td>\n      <td>India</td>\n      <td>IN</td>\n      <td>Comedy</td>\n      <td>...</td>\n      <td>100000.0</td>\n      <td>2017.0</td>\n      <td>Aug</td>\n      <td>1.0</td>\n      <td>28.1</td>\n      <td>1.366418e+09</td>\n      <td>5.36</td>\n      <td>471031528.0</td>\n      <td>20.593684</td>\n      <td>78.962880</td>\n    </tr>\n  </tbody>\n</table>\n<p>995 rows × 28 columns</p>\n</div>"
     },
     "execution_count": 2,
     "metadata": {},
     "output_type": "execute_result"
    }
   ],
   "source": [
    "data = pd.read_csv(\"Global YouTube Statistics.csv\", encoding='latin1')\n",
    "data"
   ],
   "metadata": {
    "collapsed": false,
    "ExecuteTime": {
     "start_time": "2023-09-25T15:27:07.113590Z",
     "end_time": "2023-09-25T15:27:07.151059Z"
    }
   }
  },
  {
   "cell_type": "markdown",
   "source": [
    "2.Виведіть перші п'ять рядків (використовується метод head):"
   ],
   "metadata": {
    "collapsed": false
   }
  },
  {
   "cell_type": "code",
   "execution_count": 3,
   "outputs": [
    {
     "name": "stdout",
     "output_type": "stream",
     "text": [
      "   rank                    Youtuber  subscribers   video views   \n",
      "0     1                    T-Series    245000000  2.280000e+11  \\\n",
      "1     2              YouTube Movies    170000000  0.000000e+00   \n",
      "2     3                     MrBeast    166000000  2.836884e+10   \n",
      "3     4  Cocomelon - Nursery Rhymes    162000000  1.640000e+11   \n",
      "4     5                   SET India    159000000  1.480000e+11   \n",
      "\n",
      "           category                       Title  uploads        Country   \n",
      "0             Music                    T-Series    20082          India  \\\n",
      "1  Film & Animation               youtubemovies        1  United States   \n",
      "2     Entertainment                     MrBeast      741  United States   \n",
      "3         Education  Cocomelon - Nursery Rhymes      966  United States   \n",
      "4             Shows                   SET India   116536          India   \n",
      "\n",
      "  Abbreviation   channel_type  ...  subscribers_for_last_30_days   \n",
      "0           IN          Music  ...                     2000000.0  \\\n",
      "1           US          Games  ...                           NaN   \n",
      "2           US  Entertainment  ...                     8000000.0   \n",
      "3           US      Education  ...                     1000000.0   \n",
      "4           IN  Entertainment  ...                     1000000.0   \n",
      "\n",
      "   created_year  created_month  created_date   \n",
      "0        2006.0            Mar          13.0  \\\n",
      "1        2006.0            Mar           5.0   \n",
      "2        2012.0            Feb          20.0   \n",
      "3        2006.0            Sep           1.0   \n",
      "4        2006.0            Sep          20.0   \n",
      "\n",
      "   Gross tertiary education enrollment (%)    Population  Unemployment rate   \n",
      "0                                     28.1  1.366418e+09               5.36  \\\n",
      "1                                     88.2  3.282395e+08              14.70   \n",
      "2                                     88.2  3.282395e+08              14.70   \n",
      "3                                     88.2  3.282395e+08              14.70   \n",
      "4                                     28.1  1.366418e+09               5.36   \n",
      "\n",
      "   Urban_population   Latitude  Longitude  \n",
      "0       471031528.0  20.593684  78.962880  \n",
      "1       270663028.0  37.090240 -95.712891  \n",
      "2       270663028.0  37.090240 -95.712891  \n",
      "3       270663028.0  37.090240 -95.712891  \n",
      "4       471031528.0  20.593684  78.962880  \n",
      "\n",
      "[5 rows x 28 columns]\n"
     ]
    }
   ],
   "source": [
    "data5 = data.head(5)\n",
    "print(data5)"
   ],
   "metadata": {
    "collapsed": false,
    "ExecuteTime": {
     "start_time": "2023-09-25T15:28:14.454515Z",
     "end_time": "2023-09-25T15:28:14.468999Z"
    }
   }
  },
  {
   "cell_type": "markdown",
   "source": [
    "3.Виведіть розміри датасету (використовуйте метод shape)"
   ],
   "metadata": {
    "collapsed": false
   }
  },
  {
   "cell_type": "code",
   "execution_count": 11,
   "outputs": [
    {
     "name": "stdout",
     "output_type": "stream",
     "text": [
      "Dataset size (995, 28)\n"
     ]
    }
   ],
   "source": [
    "print(\"Dataset size\",data.shape)"
   ],
   "metadata": {
    "collapsed": false,
    "ExecuteTime": {
     "start_time": "2023-09-25T15:40:38.354309Z",
     "end_time": "2023-09-25T15:40:38.368914Z"
    }
   }
  },
  {
   "cell_type": "markdown",
   "source": [
    "4.1 Перевірте, чи у всіх рядків вистачає даних: виведіть кількість пропусків у кожному зі стовпців (використовуйте методи isna та sum).\n",
    "Якщо є пропуски, замінить їх на NaN, потім тип даних на числовий."
   ],
   "metadata": {
    "collapsed": false
   }
  },
  {
   "cell_type": "code",
   "execution_count": 12,
   "outputs": [
    {
     "name": "stdout",
     "output_type": "stream",
     "text": [
      "rank                                        0.000000\n",
      "Youtuber                                    0.000000\n",
      "subscribers                                 0.000000\n",
      "video views                                 0.000000\n",
      "category                                    4.623116\n",
      "Title                                       0.000000\n",
      "uploads                                     0.000000\n",
      "Country                                    12.261307\n",
      "Abbreviation                               12.261307\n",
      "channel_type                                3.015075\n",
      "video_views_rank                            0.100503\n",
      "country_rank                               11.658291\n",
      "channel_type_rank                           3.316583\n",
      "video_views_for_the_last_30_days            5.628141\n",
      "lowest_monthly_earnings                     0.000000\n",
      "highest_monthly_earnings                    0.000000\n",
      "lowest_yearly_earnings                      0.000000\n",
      "highest_yearly_earnings                     0.000000\n",
      "subscribers_for_last_30_days               33.869347\n",
      "created_year                                0.502513\n",
      "created_month                               0.502513\n",
      "created_date                                0.502513\n",
      "Gross tertiary education enrollment (%)    12.361809\n",
      "Population                                 12.361809\n",
      "Unemployment rate                          12.361809\n",
      "Urban_population                           12.361809\n",
      "Latitude                                   12.361809\n",
      "Longitude                                  12.361809\n",
      "dtype: float64\n"
     ]
    },
    {
     "data": {
      "text/plain": "rank                                         int64\nYoutuber                                    object\nsubscribers                                  int64\nvideo views                                float64\ncategory                                    object\nTitle                                       object\nuploads                                      int64\nCountry                                     object\nAbbreviation                                object\nchannel_type                                object\nvideo_views_rank                           float64\ncountry_rank                               float64\nchannel_type_rank                          float64\nvideo_views_for_the_last_30_days           float64\nlowest_monthly_earnings                    float64\nhighest_monthly_earnings                   float64\nlowest_yearly_earnings                     float64\nhighest_yearly_earnings                    float64\nsubscribers_for_last_30_days               float64\ncreated_year                               float64\ncreated_month                               object\ncreated_date                               float64\nGross tertiary education enrollment (%)    float64\nPopulation                                 float64\nUnemployment rate                          float64\nUrban_population                           float64\nLatitude                                   float64\nLongitude                                  float64\ndtype: object"
     },
     "execution_count": 12,
     "metadata": {},
     "output_type": "execute_result"
    }
   ],
   "source": [
    "data = data.replace('Nan', np.nan)\n",
    "missing = data.isnull().sum()/len(data)*100\n",
    "print(missing)\n",
    "data.dtypes"
   ],
   "metadata": {
    "collapsed": false,
    "ExecuteTime": {
     "start_time": "2023-09-25T15:41:42.684073Z",
     "end_time": "2023-09-25T15:41:42.734253Z"
    }
   }
  },
  {
   "cell_type": "markdown",
   "source": [
    "4.2 Замінити NaN на числовий тип даних"
   ],
   "metadata": {
    "collapsed": false
   }
  },
  {
   "cell_type": "code",
   "execution_count": 13,
   "outputs": [
    {
     "name": "stdout",
     "output_type": "stream",
     "text": [
      "object\n"
     ]
    },
    {
     "ename": "ValueError",
     "evalue": "could not convert string to float: 'T-Series'",
     "output_type": "error",
     "traceback": [
      "\u001B[1;31m---------------------------------------------------------------------------\u001B[0m",
      "\u001B[1;31mValueError\u001B[0m                                Traceback (most recent call last)",
      "Cell \u001B[1;32mIn[13], line 4\u001B[0m\n\u001B[0;32m      2\u001B[0m     \u001B[38;5;28;01mif\u001B[39;00m data[col]\u001B[38;5;241m.\u001B[39mdtype \u001B[38;5;241m!=\u001B[39m \u001B[38;5;124m'\u001B[39m\u001B[38;5;124mfloat64\u001B[39m\u001B[38;5;124m'\u001B[39m:\n\u001B[0;32m      3\u001B[0m         \u001B[38;5;28mprint\u001B[39m(data[col]\u001B[38;5;241m.\u001B[39mdtype)\n\u001B[1;32m----> 4\u001B[0m         data[col] \u001B[38;5;241m=\u001B[39m \u001B[43mdata\u001B[49m\u001B[43m \u001B[49m\u001B[43m[\u001B[49m\u001B[43mcol\u001B[49m\u001B[43m]\u001B[49m\u001B[38;5;241;43m.\u001B[39;49m\u001B[43mastype\u001B[49m\u001B[43m(\u001B[49m\u001B[38;5;28;43mfloat\u001B[39;49m\u001B[43m)\u001B[49m\n\u001B[0;32m      5\u001B[0m data\n",
      "File \u001B[1;32m~\\AppData\\Local\\Programs\\Python\\Python310\\lib\\site-packages\\pandas\\core\\generic.py:6324\u001B[0m, in \u001B[0;36mNDFrame.astype\u001B[1;34m(self, dtype, copy, errors)\u001B[0m\n\u001B[0;32m   6317\u001B[0m     results \u001B[38;5;241m=\u001B[39m [\n\u001B[0;32m   6318\u001B[0m         \u001B[38;5;28mself\u001B[39m\u001B[38;5;241m.\u001B[39miloc[:, i]\u001B[38;5;241m.\u001B[39mastype(dtype, copy\u001B[38;5;241m=\u001B[39mcopy)\n\u001B[0;32m   6319\u001B[0m         \u001B[38;5;28;01mfor\u001B[39;00m i \u001B[38;5;129;01min\u001B[39;00m \u001B[38;5;28mrange\u001B[39m(\u001B[38;5;28mlen\u001B[39m(\u001B[38;5;28mself\u001B[39m\u001B[38;5;241m.\u001B[39mcolumns))\n\u001B[0;32m   6320\u001B[0m     ]\n\u001B[0;32m   6322\u001B[0m \u001B[38;5;28;01melse\u001B[39;00m:\n\u001B[0;32m   6323\u001B[0m     \u001B[38;5;66;03m# else, only a single dtype is given\u001B[39;00m\n\u001B[1;32m-> 6324\u001B[0m     new_data \u001B[38;5;241m=\u001B[39m \u001B[38;5;28;43mself\u001B[39;49m\u001B[38;5;241;43m.\u001B[39;49m\u001B[43m_mgr\u001B[49m\u001B[38;5;241;43m.\u001B[39;49m\u001B[43mastype\u001B[49m\u001B[43m(\u001B[49m\u001B[43mdtype\u001B[49m\u001B[38;5;241;43m=\u001B[39;49m\u001B[43mdtype\u001B[49m\u001B[43m,\u001B[49m\u001B[43m \u001B[49m\u001B[43mcopy\u001B[49m\u001B[38;5;241;43m=\u001B[39;49m\u001B[43mcopy\u001B[49m\u001B[43m,\u001B[49m\u001B[43m \u001B[49m\u001B[43merrors\u001B[49m\u001B[38;5;241;43m=\u001B[39;49m\u001B[43merrors\u001B[49m\u001B[43m)\u001B[49m\n\u001B[0;32m   6325\u001B[0m     \u001B[38;5;28;01mreturn\u001B[39;00m \u001B[38;5;28mself\u001B[39m\u001B[38;5;241m.\u001B[39m_constructor(new_data)\u001B[38;5;241m.\u001B[39m__finalize__(\u001B[38;5;28mself\u001B[39m, method\u001B[38;5;241m=\u001B[39m\u001B[38;5;124m\"\u001B[39m\u001B[38;5;124mastype\u001B[39m\u001B[38;5;124m\"\u001B[39m)\n\u001B[0;32m   6327\u001B[0m \u001B[38;5;66;03m# GH 33113: handle empty frame or series\u001B[39;00m\n",
      "File \u001B[1;32m~\\AppData\\Local\\Programs\\Python\\Python310\\lib\\site-packages\\pandas\\core\\internals\\managers.py:451\u001B[0m, in \u001B[0;36mBaseBlockManager.astype\u001B[1;34m(self, dtype, copy, errors)\u001B[0m\n\u001B[0;32m    448\u001B[0m \u001B[38;5;28;01melif\u001B[39;00m using_copy_on_write():\n\u001B[0;32m    449\u001B[0m     copy \u001B[38;5;241m=\u001B[39m \u001B[38;5;28;01mFalse\u001B[39;00m\n\u001B[1;32m--> 451\u001B[0m \u001B[38;5;28;01mreturn\u001B[39;00m \u001B[38;5;28;43mself\u001B[39;49m\u001B[38;5;241;43m.\u001B[39;49m\u001B[43mapply\u001B[49m\u001B[43m(\u001B[49m\n\u001B[0;32m    452\u001B[0m \u001B[43m    \u001B[49m\u001B[38;5;124;43m\"\u001B[39;49m\u001B[38;5;124;43mastype\u001B[39;49m\u001B[38;5;124;43m\"\u001B[39;49m\u001B[43m,\u001B[49m\n\u001B[0;32m    453\u001B[0m \u001B[43m    \u001B[49m\u001B[43mdtype\u001B[49m\u001B[38;5;241;43m=\u001B[39;49m\u001B[43mdtype\u001B[49m\u001B[43m,\u001B[49m\n\u001B[0;32m    454\u001B[0m \u001B[43m    \u001B[49m\u001B[43mcopy\u001B[49m\u001B[38;5;241;43m=\u001B[39;49m\u001B[43mcopy\u001B[49m\u001B[43m,\u001B[49m\n\u001B[0;32m    455\u001B[0m \u001B[43m    \u001B[49m\u001B[43merrors\u001B[49m\u001B[38;5;241;43m=\u001B[39;49m\u001B[43merrors\u001B[49m\u001B[43m,\u001B[49m\n\u001B[0;32m    456\u001B[0m \u001B[43m    \u001B[49m\u001B[43musing_cow\u001B[49m\u001B[38;5;241;43m=\u001B[39;49m\u001B[43musing_copy_on_write\u001B[49m\u001B[43m(\u001B[49m\u001B[43m)\u001B[49m\u001B[43m,\u001B[49m\n\u001B[0;32m    457\u001B[0m \u001B[43m\u001B[49m\u001B[43m)\u001B[49m\n",
      "File \u001B[1;32m~\\AppData\\Local\\Programs\\Python\\Python310\\lib\\site-packages\\pandas\\core\\internals\\managers.py:352\u001B[0m, in \u001B[0;36mBaseBlockManager.apply\u001B[1;34m(self, f, align_keys, **kwargs)\u001B[0m\n\u001B[0;32m    350\u001B[0m         applied \u001B[38;5;241m=\u001B[39m b\u001B[38;5;241m.\u001B[39mapply(f, \u001B[38;5;241m*\u001B[39m\u001B[38;5;241m*\u001B[39mkwargs)\n\u001B[0;32m    351\u001B[0m     \u001B[38;5;28;01melse\u001B[39;00m:\n\u001B[1;32m--> 352\u001B[0m         applied \u001B[38;5;241m=\u001B[39m \u001B[38;5;28mgetattr\u001B[39m(b, f)(\u001B[38;5;241m*\u001B[39m\u001B[38;5;241m*\u001B[39mkwargs)\n\u001B[0;32m    353\u001B[0m     result_blocks \u001B[38;5;241m=\u001B[39m extend_blocks(applied, result_blocks)\n\u001B[0;32m    355\u001B[0m out \u001B[38;5;241m=\u001B[39m \u001B[38;5;28mtype\u001B[39m(\u001B[38;5;28mself\u001B[39m)\u001B[38;5;241m.\u001B[39mfrom_blocks(result_blocks, \u001B[38;5;28mself\u001B[39m\u001B[38;5;241m.\u001B[39maxes)\n",
      "File \u001B[1;32m~\\AppData\\Local\\Programs\\Python\\Python310\\lib\\site-packages\\pandas\\core\\internals\\blocks.py:511\u001B[0m, in \u001B[0;36mBlock.astype\u001B[1;34m(self, dtype, copy, errors, using_cow)\u001B[0m\n\u001B[0;32m    491\u001B[0m \u001B[38;5;250m\u001B[39m\u001B[38;5;124;03m\"\"\"\u001B[39;00m\n\u001B[0;32m    492\u001B[0m \u001B[38;5;124;03mCoerce to the new dtype.\u001B[39;00m\n\u001B[0;32m    493\u001B[0m \n\u001B[1;32m   (...)\u001B[0m\n\u001B[0;32m    507\u001B[0m \u001B[38;5;124;03mBlock\u001B[39;00m\n\u001B[0;32m    508\u001B[0m \u001B[38;5;124;03m\"\"\"\u001B[39;00m\n\u001B[0;32m    509\u001B[0m values \u001B[38;5;241m=\u001B[39m \u001B[38;5;28mself\u001B[39m\u001B[38;5;241m.\u001B[39mvalues\n\u001B[1;32m--> 511\u001B[0m new_values \u001B[38;5;241m=\u001B[39m \u001B[43mastype_array_safe\u001B[49m\u001B[43m(\u001B[49m\u001B[43mvalues\u001B[49m\u001B[43m,\u001B[49m\u001B[43m \u001B[49m\u001B[43mdtype\u001B[49m\u001B[43m,\u001B[49m\u001B[43m \u001B[49m\u001B[43mcopy\u001B[49m\u001B[38;5;241;43m=\u001B[39;49m\u001B[43mcopy\u001B[49m\u001B[43m,\u001B[49m\u001B[43m \u001B[49m\u001B[43merrors\u001B[49m\u001B[38;5;241;43m=\u001B[39;49m\u001B[43merrors\u001B[49m\u001B[43m)\u001B[49m\n\u001B[0;32m    513\u001B[0m new_values \u001B[38;5;241m=\u001B[39m maybe_coerce_values(new_values)\n\u001B[0;32m    515\u001B[0m refs \u001B[38;5;241m=\u001B[39m \u001B[38;5;28;01mNone\u001B[39;00m\n",
      "File \u001B[1;32m~\\AppData\\Local\\Programs\\Python\\Python310\\lib\\site-packages\\pandas\\core\\dtypes\\astype.py:242\u001B[0m, in \u001B[0;36mastype_array_safe\u001B[1;34m(values, dtype, copy, errors)\u001B[0m\n\u001B[0;32m    239\u001B[0m     dtype \u001B[38;5;241m=\u001B[39m dtype\u001B[38;5;241m.\u001B[39mnumpy_dtype\n\u001B[0;32m    241\u001B[0m \u001B[38;5;28;01mtry\u001B[39;00m:\n\u001B[1;32m--> 242\u001B[0m     new_values \u001B[38;5;241m=\u001B[39m \u001B[43mastype_array\u001B[49m\u001B[43m(\u001B[49m\u001B[43mvalues\u001B[49m\u001B[43m,\u001B[49m\u001B[43m \u001B[49m\u001B[43mdtype\u001B[49m\u001B[43m,\u001B[49m\u001B[43m \u001B[49m\u001B[43mcopy\u001B[49m\u001B[38;5;241;43m=\u001B[39;49m\u001B[43mcopy\u001B[49m\u001B[43m)\u001B[49m\n\u001B[0;32m    243\u001B[0m \u001B[38;5;28;01mexcept\u001B[39;00m (\u001B[38;5;167;01mValueError\u001B[39;00m, \u001B[38;5;167;01mTypeError\u001B[39;00m):\n\u001B[0;32m    244\u001B[0m     \u001B[38;5;66;03m# e.g. _astype_nansafe can fail on object-dtype of strings\u001B[39;00m\n\u001B[0;32m    245\u001B[0m     \u001B[38;5;66;03m#  trying to convert to float\u001B[39;00m\n\u001B[0;32m    246\u001B[0m     \u001B[38;5;28;01mif\u001B[39;00m errors \u001B[38;5;241m==\u001B[39m \u001B[38;5;124m\"\u001B[39m\u001B[38;5;124mignore\u001B[39m\u001B[38;5;124m\"\u001B[39m:\n",
      "File \u001B[1;32m~\\AppData\\Local\\Programs\\Python\\Python310\\lib\\site-packages\\pandas\\core\\dtypes\\astype.py:187\u001B[0m, in \u001B[0;36mastype_array\u001B[1;34m(values, dtype, copy)\u001B[0m\n\u001B[0;32m    184\u001B[0m     values \u001B[38;5;241m=\u001B[39m values\u001B[38;5;241m.\u001B[39mastype(dtype, copy\u001B[38;5;241m=\u001B[39mcopy)\n\u001B[0;32m    186\u001B[0m \u001B[38;5;28;01melse\u001B[39;00m:\n\u001B[1;32m--> 187\u001B[0m     values \u001B[38;5;241m=\u001B[39m \u001B[43m_astype_nansafe\u001B[49m\u001B[43m(\u001B[49m\u001B[43mvalues\u001B[49m\u001B[43m,\u001B[49m\u001B[43m \u001B[49m\u001B[43mdtype\u001B[49m\u001B[43m,\u001B[49m\u001B[43m \u001B[49m\u001B[43mcopy\u001B[49m\u001B[38;5;241;43m=\u001B[39;49m\u001B[43mcopy\u001B[49m\u001B[43m)\u001B[49m\n\u001B[0;32m    189\u001B[0m \u001B[38;5;66;03m# in pandas we don't store numpy str dtypes, so convert to object\u001B[39;00m\n\u001B[0;32m    190\u001B[0m \u001B[38;5;28;01mif\u001B[39;00m \u001B[38;5;28misinstance\u001B[39m(dtype, np\u001B[38;5;241m.\u001B[39mdtype) \u001B[38;5;129;01mand\u001B[39;00m \u001B[38;5;28missubclass\u001B[39m(values\u001B[38;5;241m.\u001B[39mdtype\u001B[38;5;241m.\u001B[39mtype, \u001B[38;5;28mstr\u001B[39m):\n",
      "File \u001B[1;32m~\\AppData\\Local\\Programs\\Python\\Python310\\lib\\site-packages\\pandas\\core\\dtypes\\astype.py:138\u001B[0m, in \u001B[0;36m_astype_nansafe\u001B[1;34m(arr, dtype, copy, skipna)\u001B[0m\n\u001B[0;32m    134\u001B[0m     \u001B[38;5;28;01mraise\u001B[39;00m \u001B[38;5;167;01mValueError\u001B[39;00m(msg)\n\u001B[0;32m    136\u001B[0m \u001B[38;5;28;01mif\u001B[39;00m copy \u001B[38;5;129;01mor\u001B[39;00m is_object_dtype(arr\u001B[38;5;241m.\u001B[39mdtype) \u001B[38;5;129;01mor\u001B[39;00m is_object_dtype(dtype):\n\u001B[0;32m    137\u001B[0m     \u001B[38;5;66;03m# Explicit copy, or required since NumPy can't view from / to object.\u001B[39;00m\n\u001B[1;32m--> 138\u001B[0m     \u001B[38;5;28;01mreturn\u001B[39;00m \u001B[43marr\u001B[49m\u001B[38;5;241;43m.\u001B[39;49m\u001B[43mastype\u001B[49m\u001B[43m(\u001B[49m\u001B[43mdtype\u001B[49m\u001B[43m,\u001B[49m\u001B[43m \u001B[49m\u001B[43mcopy\u001B[49m\u001B[38;5;241;43m=\u001B[39;49m\u001B[38;5;28;43;01mTrue\u001B[39;49;00m\u001B[43m)\u001B[49m\n\u001B[0;32m    140\u001B[0m \u001B[38;5;28;01mreturn\u001B[39;00m arr\u001B[38;5;241m.\u001B[39mastype(dtype, copy\u001B[38;5;241m=\u001B[39mcopy)\n",
      "\u001B[1;31mValueError\u001B[0m: could not convert string to float: 'T-Series'"
     ]
    }
   ],
   "source": [
    "for col in data.iloc[:,1:]:\n",
    "    if data[col].dtype != 'float64':\n",
    "        print(data[col].dtype)\n",
    "        data[col] = data [col].astype(float)\n",
    "data"
   ],
   "metadata": {
    "collapsed": false
   }
  },
  {
   "cell_type": "markdown",
   "source": [
    "5.Замініть комірки з пропущеними значеннями на середні за стовпцем. І тип даних на float."
   ],
   "metadata": {
    "collapsed": false
   }
  },
  {
   "cell_type": "code",
   "execution_count": 20,
   "outputs": [
    {
     "data": {
      "text/plain": "     rank                    Youtuber  subscribers   video views   \n0       1                    T-Series    245000000  2.280000e+11  \\\n1       2              YouTube Movies    170000000  0.000000e+00   \n2       3                     MrBeast    166000000  2.836884e+10   \n3       4  Cocomelon - Nursery Rhymes    162000000  1.640000e+11   \n4       5                   SET India    159000000  1.480000e+11   \n..    ...                         ...          ...           ...   \n990   991               Natan por Aï¿     12300000  9.029610e+09   \n991   992    Free Fire India Official     12300000  1.674410e+09   \n992   993                       Panda     12300000  2.214684e+09   \n993   994                 RobTopGames     12300000  3.741235e+08   \n994   995                Make Joke Of     12300000  2.129774e+09   \n\n             category                       Title  uploads         Country   \n0               Music                    T-Series    20082           India  \\\n1    Film & Animation               youtubemovies        1   United States   \n2       Entertainment                     MrBeast      741   United States   \n3           Education  Cocomelon - Nursery Rhymes      966   United States   \n4               Shows                   SET India   116536           India   \n..                ...                         ...      ...             ...   \n990            Sports               Natan por Aï¿     1200          Brazil   \n991    People & Blogs    Free Fire India Official     1500           India   \n992               NaN                 HybridPanda     2452  United Kingdom   \n993            Gaming                 RobTopGames       39          Sweden   \n994            Comedy                Make Joke Of       62           India   \n\n    Abbreviation   channel_type  ...  subscribers_for_last_30_days   \n0             IN          Music  ...                  2.000000e+06  \\\n1             US          Games  ...                  3.490791e+05   \n2             US  Entertainment  ...                  8.000000e+06   \n3             US      Education  ...                  1.000000e+06   \n4             IN  Entertainment  ...                  1.000000e+06   \n..           ...            ...  ...                           ...   \n990           BR  Entertainment  ...                  7.000000e+05   \n991           IN          Games  ...                  3.000000e+05   \n992           GB          Games  ...                  1.000000e+03   \n993           SE          Games  ...                  1.000000e+05   \n994           IN         Comedy  ...                  1.000000e+05   \n\n     created_year  created_month  created_date   \n0          2006.0            Mar          13.0  \\\n1          2006.0            Mar           5.0   \n2          2012.0            Feb          20.0   \n3          2006.0            Sep           1.0   \n4          2006.0            Sep          20.0   \n..            ...            ...           ...   \n990        2017.0            Feb          12.0   \n991        2018.0            Sep          14.0   \n992        2006.0            Sep          11.0   \n993        2012.0            May           9.0   \n994        2017.0            Aug           1.0   \n\n     Gross tertiary education enrollment (%)    Population  Unemployment rate   \n0                                       28.1  1.366418e+09               5.36  \\\n1                                       88.2  3.282395e+08              14.70   \n2                                       88.2  3.282395e+08              14.70   \n3                                       88.2  3.282395e+08              14.70   \n4                                       28.1  1.366418e+09               5.36   \n..                                       ...           ...                ...   \n990                                     51.3  2.125594e+08              12.08   \n991                                     28.1  1.366418e+09               5.36   \n992                                     60.0  6.683440e+07               3.85   \n993                                     67.0  1.028545e+07               6.48   \n994                                     28.1  1.366418e+09               5.36   \n\n     Urban_population   Latitude  Longitude  \n0         471031528.0  20.593684  78.962880  \n1         270663028.0  37.090240 -95.712891  \n2         270663028.0  37.090240 -95.712891  \n3         270663028.0  37.090240 -95.712891  \n4         471031528.0  20.593684  78.962880  \n..                ...        ...        ...  \n990       183241641.0 -14.235004 -51.925280  \n991       471031528.0  20.593684  78.962880  \n992        55908316.0  55.378051  -3.435973  \n993         9021165.0  60.128161  18.643501  \n994       471031528.0  20.593684  78.962880  \n\n[995 rows x 28 columns]",
      "text/html": "<div>\n<style scoped>\n    .dataframe tbody tr th:only-of-type {\n        vertical-align: middle;\n    }\n\n    .dataframe tbody tr th {\n        vertical-align: top;\n    }\n\n    .dataframe thead th {\n        text-align: right;\n    }\n</style>\n<table border=\"1\" class=\"dataframe\">\n  <thead>\n    <tr style=\"text-align: right;\">\n      <th></th>\n      <th>rank</th>\n      <th>Youtuber</th>\n      <th>subscribers</th>\n      <th>video views</th>\n      <th>category</th>\n      <th>Title</th>\n      <th>uploads</th>\n      <th>Country</th>\n      <th>Abbreviation</th>\n      <th>channel_type</th>\n      <th>...</th>\n      <th>subscribers_for_last_30_days</th>\n      <th>created_year</th>\n      <th>created_month</th>\n      <th>created_date</th>\n      <th>Gross tertiary education enrollment (%)</th>\n      <th>Population</th>\n      <th>Unemployment rate</th>\n      <th>Urban_population</th>\n      <th>Latitude</th>\n      <th>Longitude</th>\n    </tr>\n  </thead>\n  <tbody>\n    <tr>\n      <th>0</th>\n      <td>1</td>\n      <td>T-Series</td>\n      <td>245000000</td>\n      <td>2.280000e+11</td>\n      <td>Music</td>\n      <td>T-Series</td>\n      <td>20082</td>\n      <td>India</td>\n      <td>IN</td>\n      <td>Music</td>\n      <td>...</td>\n      <td>2.000000e+06</td>\n      <td>2006.0</td>\n      <td>Mar</td>\n      <td>13.0</td>\n      <td>28.1</td>\n      <td>1.366418e+09</td>\n      <td>5.36</td>\n      <td>471031528.0</td>\n      <td>20.593684</td>\n      <td>78.962880</td>\n    </tr>\n    <tr>\n      <th>1</th>\n      <td>2</td>\n      <td>YouTube Movies</td>\n      <td>170000000</td>\n      <td>0.000000e+00</td>\n      <td>Film &amp; Animation</td>\n      <td>youtubemovies</td>\n      <td>1</td>\n      <td>United States</td>\n      <td>US</td>\n      <td>Games</td>\n      <td>...</td>\n      <td>3.490791e+05</td>\n      <td>2006.0</td>\n      <td>Mar</td>\n      <td>5.0</td>\n      <td>88.2</td>\n      <td>3.282395e+08</td>\n      <td>14.70</td>\n      <td>270663028.0</td>\n      <td>37.090240</td>\n      <td>-95.712891</td>\n    </tr>\n    <tr>\n      <th>2</th>\n      <td>3</td>\n      <td>MrBeast</td>\n      <td>166000000</td>\n      <td>2.836884e+10</td>\n      <td>Entertainment</td>\n      <td>MrBeast</td>\n      <td>741</td>\n      <td>United States</td>\n      <td>US</td>\n      <td>Entertainment</td>\n      <td>...</td>\n      <td>8.000000e+06</td>\n      <td>2012.0</td>\n      <td>Feb</td>\n      <td>20.0</td>\n      <td>88.2</td>\n      <td>3.282395e+08</td>\n      <td>14.70</td>\n      <td>270663028.0</td>\n      <td>37.090240</td>\n      <td>-95.712891</td>\n    </tr>\n    <tr>\n      <th>3</th>\n      <td>4</td>\n      <td>Cocomelon - Nursery Rhymes</td>\n      <td>162000000</td>\n      <td>1.640000e+11</td>\n      <td>Education</td>\n      <td>Cocomelon - Nursery Rhymes</td>\n      <td>966</td>\n      <td>United States</td>\n      <td>US</td>\n      <td>Education</td>\n      <td>...</td>\n      <td>1.000000e+06</td>\n      <td>2006.0</td>\n      <td>Sep</td>\n      <td>1.0</td>\n      <td>88.2</td>\n      <td>3.282395e+08</td>\n      <td>14.70</td>\n      <td>270663028.0</td>\n      <td>37.090240</td>\n      <td>-95.712891</td>\n    </tr>\n    <tr>\n      <th>4</th>\n      <td>5</td>\n      <td>SET India</td>\n      <td>159000000</td>\n      <td>1.480000e+11</td>\n      <td>Shows</td>\n      <td>SET India</td>\n      <td>116536</td>\n      <td>India</td>\n      <td>IN</td>\n      <td>Entertainment</td>\n      <td>...</td>\n      <td>1.000000e+06</td>\n      <td>2006.0</td>\n      <td>Sep</td>\n      <td>20.0</td>\n      <td>28.1</td>\n      <td>1.366418e+09</td>\n      <td>5.36</td>\n      <td>471031528.0</td>\n      <td>20.593684</td>\n      <td>78.962880</td>\n    </tr>\n    <tr>\n      <th>...</th>\n      <td>...</td>\n      <td>...</td>\n      <td>...</td>\n      <td>...</td>\n      <td>...</td>\n      <td>...</td>\n      <td>...</td>\n      <td>...</td>\n      <td>...</td>\n      <td>...</td>\n      <td>...</td>\n      <td>...</td>\n      <td>...</td>\n      <td>...</td>\n      <td>...</td>\n      <td>...</td>\n      <td>...</td>\n      <td>...</td>\n      <td>...</td>\n      <td>...</td>\n      <td>...</td>\n    </tr>\n    <tr>\n      <th>990</th>\n      <td>991</td>\n      <td>Natan por Aï¿</td>\n      <td>12300000</td>\n      <td>9.029610e+09</td>\n      <td>Sports</td>\n      <td>Natan por Aï¿</td>\n      <td>1200</td>\n      <td>Brazil</td>\n      <td>BR</td>\n      <td>Entertainment</td>\n      <td>...</td>\n      <td>7.000000e+05</td>\n      <td>2017.0</td>\n      <td>Feb</td>\n      <td>12.0</td>\n      <td>51.3</td>\n      <td>2.125594e+08</td>\n      <td>12.08</td>\n      <td>183241641.0</td>\n      <td>-14.235004</td>\n      <td>-51.925280</td>\n    </tr>\n    <tr>\n      <th>991</th>\n      <td>992</td>\n      <td>Free Fire India Official</td>\n      <td>12300000</td>\n      <td>1.674410e+09</td>\n      <td>People &amp; Blogs</td>\n      <td>Free Fire India Official</td>\n      <td>1500</td>\n      <td>India</td>\n      <td>IN</td>\n      <td>Games</td>\n      <td>...</td>\n      <td>3.000000e+05</td>\n      <td>2018.0</td>\n      <td>Sep</td>\n      <td>14.0</td>\n      <td>28.1</td>\n      <td>1.366418e+09</td>\n      <td>5.36</td>\n      <td>471031528.0</td>\n      <td>20.593684</td>\n      <td>78.962880</td>\n    </tr>\n    <tr>\n      <th>992</th>\n      <td>993</td>\n      <td>Panda</td>\n      <td>12300000</td>\n      <td>2.214684e+09</td>\n      <td>NaN</td>\n      <td>HybridPanda</td>\n      <td>2452</td>\n      <td>United Kingdom</td>\n      <td>GB</td>\n      <td>Games</td>\n      <td>...</td>\n      <td>1.000000e+03</td>\n      <td>2006.0</td>\n      <td>Sep</td>\n      <td>11.0</td>\n      <td>60.0</td>\n      <td>6.683440e+07</td>\n      <td>3.85</td>\n      <td>55908316.0</td>\n      <td>55.378051</td>\n      <td>-3.435973</td>\n    </tr>\n    <tr>\n      <th>993</th>\n      <td>994</td>\n      <td>RobTopGames</td>\n      <td>12300000</td>\n      <td>3.741235e+08</td>\n      <td>Gaming</td>\n      <td>RobTopGames</td>\n      <td>39</td>\n      <td>Sweden</td>\n      <td>SE</td>\n      <td>Games</td>\n      <td>...</td>\n      <td>1.000000e+05</td>\n      <td>2012.0</td>\n      <td>May</td>\n      <td>9.0</td>\n      <td>67.0</td>\n      <td>1.028545e+07</td>\n      <td>6.48</td>\n      <td>9021165.0</td>\n      <td>60.128161</td>\n      <td>18.643501</td>\n    </tr>\n    <tr>\n      <th>994</th>\n      <td>995</td>\n      <td>Make Joke Of</td>\n      <td>12300000</td>\n      <td>2.129774e+09</td>\n      <td>Comedy</td>\n      <td>Make Joke Of</td>\n      <td>62</td>\n      <td>India</td>\n      <td>IN</td>\n      <td>Comedy</td>\n      <td>...</td>\n      <td>1.000000e+05</td>\n      <td>2017.0</td>\n      <td>Aug</td>\n      <td>1.0</td>\n      <td>28.1</td>\n      <td>1.366418e+09</td>\n      <td>5.36</td>\n      <td>471031528.0</td>\n      <td>20.593684</td>\n      <td>78.962880</td>\n    </tr>\n  </tbody>\n</table>\n<p>995 rows × 28 columns</p>\n</div>"
     },
     "execution_count": 20,
     "metadata": {},
     "output_type": "execute_result"
    }
   ],
   "source": [
    "data = data.fillna(data.mean(numeric_only=True).astype(float))\n",
    "data"
   ],
   "metadata": {
    "collapsed": false,
    "ExecuteTime": {
     "start_time": "2023-09-25T15:56:24.872297Z",
     "end_time": "2023-09-25T15:56:24.901639Z"
    }
   }
  },
  {
   "cell_type": "markdown",
   "source": [
    "6.Ще раз перевірте кількість пропусків."
   ],
   "metadata": {
    "collapsed": false
   }
  },
  {
   "cell_type": "code",
   "execution_count": 21,
   "outputs": [
    {
     "name": "stdout",
     "output_type": "stream",
     "text": [
      "rank                                        0.000000\n",
      "Youtuber                                    0.000000\n",
      "subscribers                                 0.000000\n",
      "video views                                 0.000000\n",
      "category                                    4.623116\n",
      "Title                                       0.000000\n",
      "uploads                                     0.000000\n",
      "Country                                    12.261307\n",
      "Abbreviation                               12.261307\n",
      "channel_type                                3.015075\n",
      "video_views_rank                            0.000000\n",
      "country_rank                                0.000000\n",
      "channel_type_rank                           0.000000\n",
      "video_views_for_the_last_30_days            0.000000\n",
      "lowest_monthly_earnings                     0.000000\n",
      "highest_monthly_earnings                    0.000000\n",
      "lowest_yearly_earnings                      0.000000\n",
      "highest_yearly_earnings                     0.000000\n",
      "subscribers_for_last_30_days                0.000000\n",
      "created_year                                0.000000\n",
      "created_month                               0.502513\n",
      "created_date                                0.000000\n",
      "Gross tertiary education enrollment (%)     0.000000\n",
      "Population                                  0.000000\n",
      "Unemployment rate                           0.000000\n",
      "Urban_population                            0.000000\n",
      "Latitude                                    0.000000\n",
      "Longitude                                   0.000000\n",
      "dtype: float64\n"
     ]
    }
   ],
   "source": [
    "missing = data.isnull().sum()/len(data)*100\n",
    "print(missing)"
   ],
   "metadata": {
    "collapsed": false,
    "ExecuteTime": {
     "start_time": "2023-09-25T15:57:09.247933Z",
     "end_time": "2023-09-25T15:57:09.261252Z"
    }
   }
  },
  {
   "cell_type": "markdown",
   "source": [
    "7.Перевірте, скільки унікальних країн представлено у колонці \"Country\""
   ],
   "metadata": {
    "collapsed": false
   }
  },
  {
   "cell_type": "code",
   "execution_count": 22,
   "outputs": [
    {
     "data": {
      "text/plain": "array(['India', 'United States', nan, 'Japan', 'Russia', 'South Korea',\n       'United Kingdom', 'Canada', 'Brazil', 'Argentina', 'Chile', 'Cuba',\n       'El Salvador', 'Pakistan', 'Philippines', 'Thailand', 'Colombia',\n       'Barbados', 'Mexico', 'United Arab Emirates', 'Spain',\n       'Saudi Arabia', 'Indonesia', 'Turkey', 'Venezuela', 'Kuwait',\n       'Jordan', 'Netherlands', 'Singapore', 'Australia', 'Italy',\n       'Germany', 'France', 'Sweden', 'Afghanistan', 'Ukraine', 'Latvia',\n       'Switzerland', 'Vietnam', 'Malaysia', 'China', 'Iraq', 'Egypt',\n       'Andorra', 'Ecuador', 'Morocco', 'Peru', 'Bangladesh', 'Finland',\n       'Samoa'], dtype=object)"
     },
     "execution_count": 22,
     "metadata": {},
     "output_type": "execute_result"
    }
   ],
   "source": [
    "data['Country'].unique()"
   ],
   "metadata": {
    "collapsed": false,
    "ExecuteTime": {
     "start_time": "2023-09-25T15:59:01.342743Z",
     "end_time": "2023-09-25T15:59:01.360923Z"
    }
   }
  },
  {
   "cell_type": "markdown",
   "source": [
    "8.Побудуйте діаграму розподілу переглядів (використовуйте kind='hist')"
   ],
   "metadata": {
    "collapsed": false
   }
  },
  {
   "cell_type": "code",
   "execution_count": 34,
   "outputs": [
    {
     "data": {
      "text/plain": "<Figure size 640x480 with 1 Axes>",
      "image/png": "[encoded data removed]"
     },
     "metadata": {},
     "output_type": "display_data"
    }
   ],
   "source": [
    "data['video views'].plot(kind='hist', bins=120)\n",
    "plt.title('Views')\n",
    "plt.xlabel('Youtuber')\n",
    "plt.ylabel('Video views')\n",
    "plt.show()"
   ],
   "metadata": {
    "collapsed": false,
    "ExecuteTime": {
     "start_time": "2023-09-25T16:32:40.868603Z",
     "end_time": "2023-09-25T16:32:41.051341Z"
    }
   }
  },
  {
   "cell_type": "markdown",
   "source": [
    "9.Визначте максимальну, мінімальну, середню кількість переглядів (використовуйте методи max, min, mean)"
   ],
   "metadata": {
    "collapsed": false
   }
  },
  {
   "cell_type": "code",
   "execution_count": 36,
   "outputs": [
    {
     "name": "stdout",
     "output_type": "stream",
     "text": [
      "Highest views: 228000000000.0\n",
      "Lowest views: 0.0\n",
      "Mean of views: 11039537052.03819\n"
     ]
    }
   ],
   "source": [
    "max_views = data['video views'].max()\n",
    "min_views = data['video views'].min()\n",
    "mean_views = data['video views'].mean()\n",
    "\n",
    "print(f\"Highest views: {max_views}\")\n",
    "print(f\"Lowest views: {min_views}\")\n",
    "print(f\"Mean of views: {mean_views}\")"
   ],
   "metadata": {
    "collapsed": false,
    "ExecuteTime": {
     "start_time": "2023-09-25T17:16:30.487249Z",
     "end_time": "2023-09-25T17:16:30.506126Z"
    }
   }
  },
  {
   "cell_type": "markdown",
   "source": [
    "10.Знайдіть країну, де найбільше відео було завантажено на YouTube"
   ],
   "metadata": {
    "collapsed": false
   }
  },
  {
   "cell_type": "code",
   "execution_count": 39,
   "outputs": [
    {
     "name": "stdout",
     "output_type": "stream",
     "text": [
      "Country with the most uploads: India\n"
     ]
    }
   ],
   "source": [
    "max_uploads = data['uploads'].max()\n",
    "the_highest_uploads_country = data[data['uploads'] == max_uploads]['Country'].values[0]\n",
    "print(\"Country with the most uploads:\", the_highest_uploads_country)"
   ],
   "metadata": {
    "collapsed": false,
    "ExecuteTime": {
     "start_time": "2023-09-25T17:28:08.769009Z",
     "end_time": "2023-09-25T17:28:08.783488Z"
    }
   }
  },
  {
   "cell_type": "markdown",
   "source": [
    "11.Знайдіть відео (виведіть його назву) з найбільшою та найменшою кількістю завантажень uploads."
   ],
   "metadata": {
    "collapsed": false
   }
  },
  {
   "cell_type": "code",
   "execution_count": 42,
   "outputs": [
    {
     "name": "stdout",
     "output_type": "stream",
     "text": [
      "High uploads 95    India\n",
      "Name: Country, dtype: object\n",
      "Low uploads 5                NaN\n",
      "12               NaN\n",
      "57               NaN\n",
      "73            Mexico\n",
      "102              NaN\n",
      "113              NaN\n",
      "149              NaN\n",
      "166              NaN\n",
      "180              NaN\n",
      "190        Singapore\n",
      "217     Saudi Arabia\n",
      "226              NaN\n",
      "236              NaN\n",
      "273           Canada\n",
      "299    United States\n",
      "340          Germany\n",
      "360              NaN\n",
      "377      Afghanistan\n",
      "386              NaN\n",
      "394              NaN\n",
      "440              NaN\n",
      "463              NaN\n",
      "468              NaN\n",
      "476              NaN\n",
      "508        Australia\n",
      "544              NaN\n",
      "554           Mexico\n",
      "592              NaN\n",
      "600           Mexico\n",
      "604              NaN\n",
      "606           Russia\n",
      "629              NaN\n",
      "634    United States\n",
      "680    United States\n",
      "710              NaN\n",
      "735           Brazil\n",
      "762    United States\n",
      "777              NaN\n",
      "853            India\n",
      "877              NaN\n",
      "951              NaN\n",
      "983    United States\n",
      "985              NaN\n",
      "Name: Country, dtype: object\n"
     ]
    }
   ],
   "source": [
    "min_uploads = data['uploads'].min()\n",
    "max_uploads = data['uploads'].max()\n",
    "max_uploads_video = data[data['uploads'] == max_uploads]['Country']\n",
    "min_uploads_video = data[data['uploads'] == min_uploads]['Country']\n",
    "print(f\"High uploads {max_uploads_video}\")\n",
    "print(f\"Low uploads {min_uploads_video}\")"
   ],
   "metadata": {
    "collapsed": false,
    "ExecuteTime": {
     "start_time": "2023-09-25T17:46:13.874421Z",
     "end_time": "2023-09-25T17:46:13.894824Z"
    }
   }
  },
  {
   "cell_type": "markdown",
   "source": [
    "Висновок: Під час виконання даної лабораторної роботи ознайомився та отримав досвід з виведення та імпортування cvs файлів. Також довелось працювати з сортуванням та обробкою даних із дата сету, побудовою гістограми розподілу переглядів за допомогою kind='hist', фільтруванням даних та знаходження унікального значення в певній колонці, візуалізація й аналіз інформації за допомогою читання дата сету."
   ],
   "metadata": {
    "collapsed": false
   }
  }
 ],
 "metadata": {
  "kernelspec": {
   "display_name": "Python 3",
   "language": "python",
   "name": "python3"
  },
  "language_info": {
   "codemirror_mode": {
    "name": "ipython",
    "version": 2
   },
   "file_extension": ".py",
   "mimetype": "text/x-python",
   "name": "python",
   "nbconvert_exporter": "python",
   "pygments_lexer": "ipython2",
   "version": "2.7.6"
  }
 },
 "nbformat": 4,
 "nbformat_minor": 0
}
