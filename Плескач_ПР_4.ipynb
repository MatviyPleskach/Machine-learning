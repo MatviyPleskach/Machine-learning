{
 "cells": [
  {
   "cell_type": "markdown",
   "source": [
    "ПРАКТИЧНА РОБОТА 4. Навчання з учителем. Лінійна регресія\n",
    "Роботу виконав: Плескач Матвій Русланович ФІТ 4-6"
   ],
   "metadata": {
    "collapsed": false
   }
  },
  {
   "cell_type": "code",
   "execution_count": 52,
   "metadata": {
    "collapsed": true,
    "ExecuteTime": {
     "start_time": "2023-10-02T18:45:45.826735Z",
     "end_time": "2023-10-02T18:45:45.842584Z"
    }
   },
   "outputs": [],
   "source": [
    "import numpy as np\n",
    "import pandas as pd\n",
    "import matplotlib.pyplot as plt\n",
    "from sklearn.model_selection import train_test_split\n",
    "from sklearn.linear_model import LinearRegression\n",
    "from sklearn.metrics import mean_squared_error, r2_score\n",
    "from sklearn.model_selection import cross_val_score"
   ]
  },
  {
   "cell_type": "markdown",
   "source": [
    "Завантажте файл Housing.csv. Виведіть перші 5 рядків."
   ],
   "metadata": {
    "collapsed": false
   }
  },
  {
   "cell_type": "code",
   "execution_count": null,
   "outputs": [],
   "source": [],
   "metadata": {
    "collapsed": false
   }
  },
  {
   "cell_type": "code",
   "execution_count": 43,
   "outputs": [
    {
     "data": {
      "text/plain": "      price  area  bedrooms  bathrooms  stories mainroad guestroom basement   \n0  13300000  7420         4          2        3      yes        no       no  \\\n1  12250000  8960         4          4        4      yes        no       no   \n2  12250000  9960         3          2        2      yes        no      yes   \n3  12215000  7500         4          2        2      yes        no      yes   \n4  11410000  7420         4          1        2      yes       yes      yes   \n\n  hotwaterheating airconditioning  parking prefarea furnishingstatus  \n0              no             yes        2      yes        furnished  \n1              no             yes        3       no        furnished  \n2              no              no        2      yes   semi-furnished  \n3              no             yes        3      yes        furnished  \n4              no             yes        2       no        furnished  ",
      "text/html": "<div>\n<style scoped>\n    .dataframe tbody tr th:only-of-type {\n        vertical-align: middle;\n    }\n\n    .dataframe tbody tr th {\n        vertical-align: top;\n    }\n\n    .dataframe thead th {\n        text-align: right;\n    }\n</style>\n<table border=\"1\" class=\"dataframe\">\n  <thead>\n    <tr style=\"text-align: right;\">\n      <th></th>\n      <th>price</th>\n      <th>area</th>\n      <th>bedrooms</th>\n      <th>bathrooms</th>\n      <th>stories</th>\n      <th>mainroad</th>\n      <th>guestroom</th>\n      <th>basement</th>\n      <th>hotwaterheating</th>\n      <th>airconditioning</th>\n      <th>parking</th>\n      <th>prefarea</th>\n      <th>furnishingstatus</th>\n    </tr>\n  </thead>\n  <tbody>\n    <tr>\n      <th>0</th>\n      <td>13300000</td>\n      <td>7420</td>\n      <td>4</td>\n      <td>2</td>\n      <td>3</td>\n      <td>yes</td>\n      <td>no</td>\n      <td>no</td>\n      <td>no</td>\n      <td>yes</td>\n      <td>2</td>\n      <td>yes</td>\n      <td>furnished</td>\n    </tr>\n    <tr>\n      <th>1</th>\n      <td>12250000</td>\n      <td>8960</td>\n      <td>4</td>\n      <td>4</td>\n      <td>4</td>\n      <td>yes</td>\n      <td>no</td>\n      <td>no</td>\n      <td>no</td>\n      <td>yes</td>\n      <td>3</td>\n      <td>no</td>\n      <td>furnished</td>\n    </tr>\n    <tr>\n      <th>2</th>\n      <td>12250000</td>\n      <td>9960</td>\n      <td>3</td>\n      <td>2</td>\n      <td>2</td>\n      <td>yes</td>\n      <td>no</td>\n      <td>yes</td>\n      <td>no</td>\n      <td>no</td>\n      <td>2</td>\n      <td>yes</td>\n      <td>semi-furnished</td>\n    </tr>\n    <tr>\n      <th>3</th>\n      <td>12215000</td>\n      <td>7500</td>\n      <td>4</td>\n      <td>2</td>\n      <td>2</td>\n      <td>yes</td>\n      <td>no</td>\n      <td>yes</td>\n      <td>no</td>\n      <td>yes</td>\n      <td>3</td>\n      <td>yes</td>\n      <td>furnished</td>\n    </tr>\n    <tr>\n      <th>4</th>\n      <td>11410000</td>\n      <td>7420</td>\n      <td>4</td>\n      <td>1</td>\n      <td>2</td>\n      <td>yes</td>\n      <td>yes</td>\n      <td>yes</td>\n      <td>no</td>\n      <td>yes</td>\n      <td>2</td>\n      <td>no</td>\n      <td>furnished</td>\n    </tr>\n  </tbody>\n</table>\n</div>"
     },
     "execution_count": 43,
     "metadata": {},
     "output_type": "execute_result"
    }
   ],
   "source": [
    "data = pd.read_csv(\"Housing.csv\", encoding='latin1')\n",
    "data5 = data.head(5)\n",
    "data5"
   ],
   "metadata": {
    "collapsed": false,
    "ExecuteTime": {
     "start_time": "2023-10-02T17:57:08.720287Z",
     "end_time": "2023-10-02T17:57:08.751707Z"
    }
   }
  },
  {
   "cell_type": "markdown",
   "source": [
    "2.Зробіть новий датасет, який містить тільки ці стовпчики."
   ],
   "metadata": {
    "collapsed": false
   }
  },
  {
   "cell_type": "code",
   "execution_count": 44,
   "outputs": [
    {
     "data": {
      "text/plain": "        price  area  bedrooms  bathrooms\n0    13300000  7420         4          2\n1    12250000  8960         4          4\n2    12250000  9960         3          2\n3    12215000  7500         4          2\n4    11410000  7420         4          1\n..        ...   ...       ...        ...\n540   1820000  3000         2          1\n541   1767150  2400         3          1\n542   1750000  3620         2          1\n543   1750000  2910         3          1\n544   1750000  3850         3          1\n\n[545 rows x 4 columns]",
      "text/html": "<div>\n<style scoped>\n    .dataframe tbody tr th:only-of-type {\n        vertical-align: middle;\n    }\n\n    .dataframe tbody tr th {\n        vertical-align: top;\n    }\n\n    .dataframe thead th {\n        text-align: right;\n    }\n</style>\n<table border=\"1\" class=\"dataframe\">\n  <thead>\n    <tr style=\"text-align: right;\">\n      <th></th>\n      <th>price</th>\n      <th>area</th>\n      <th>bedrooms</th>\n      <th>bathrooms</th>\n    </tr>\n  </thead>\n  <tbody>\n    <tr>\n      <th>0</th>\n      <td>13300000</td>\n      <td>7420</td>\n      <td>4</td>\n      <td>2</td>\n    </tr>\n    <tr>\n      <th>1</th>\n      <td>12250000</td>\n      <td>8960</td>\n      <td>4</td>\n      <td>4</td>\n    </tr>\n    <tr>\n      <th>2</th>\n      <td>12250000</td>\n      <td>9960</td>\n      <td>3</td>\n      <td>2</td>\n    </tr>\n    <tr>\n      <th>3</th>\n      <td>12215000</td>\n      <td>7500</td>\n      <td>4</td>\n      <td>2</td>\n    </tr>\n    <tr>\n      <th>4</th>\n      <td>11410000</td>\n      <td>7420</td>\n      <td>4</td>\n      <td>1</td>\n    </tr>\n    <tr>\n      <th>...</th>\n      <td>...</td>\n      <td>...</td>\n      <td>...</td>\n      <td>...</td>\n    </tr>\n    <tr>\n      <th>540</th>\n      <td>1820000</td>\n      <td>3000</td>\n      <td>2</td>\n      <td>1</td>\n    </tr>\n    <tr>\n      <th>541</th>\n      <td>1767150</td>\n      <td>2400</td>\n      <td>3</td>\n      <td>1</td>\n    </tr>\n    <tr>\n      <th>542</th>\n      <td>1750000</td>\n      <td>3620</td>\n      <td>2</td>\n      <td>1</td>\n    </tr>\n    <tr>\n      <th>543</th>\n      <td>1750000</td>\n      <td>2910</td>\n      <td>3</td>\n      <td>1</td>\n    </tr>\n    <tr>\n      <th>544</th>\n      <td>1750000</td>\n      <td>3850</td>\n      <td>3</td>\n      <td>1</td>\n    </tr>\n  </tbody>\n</table>\n<p>545 rows × 4 columns</p>\n</div>"
     },
     "execution_count": 44,
     "metadata": {},
     "output_type": "execute_result"
    }
   ],
   "source": [
    "data4 = pd.DataFrame(data, columns = ['price', 'area', 'bedrooms', 'bathrooms'])\n",
    "data4"
   ],
   "metadata": {
    "collapsed": false,
    "ExecuteTime": {
     "start_time": "2023-10-02T17:57:11.862062Z",
     "end_time": "2023-10-02T17:57:11.871428Z"
    }
   }
  },
  {
   "cell_type": "markdown",
   "source": [
    "3.Проведіть попередній аналіз даних: вивчіть структуру даних, перевірте наявність відсутніх значень та інші особливості даних."
   ],
   "metadata": {
    "collapsed": false
   }
  },
  {
   "cell_type": "code",
   "execution_count": 45,
   "outputs": [
    {
     "name": "stdout",
     "output_type": "stream",
     "text": [
      "int64\n",
      "int64\n",
      "int64\n",
      "price        0.0\n",
      "area         0.0\n",
      "bedrooms     0.0\n",
      "bathrooms    0.0\n",
      "dtype: float64\n"
     ]
    },
    {
     "data": {
      "text/plain": "price          int64\narea         float64\nbedrooms     float64\nbathrooms    float64\ndtype: object"
     },
     "execution_count": 45,
     "metadata": {},
     "output_type": "execute_result"
    }
   ],
   "source": [
    "data4 = data4.replace('Nan', np.nan)\n",
    "missing = data4.isnull().sum()/len(data4)*100\n",
    "for col in data4.iloc[:,1:]:\n",
    "    if data4[col].dtype != 'float64':\n",
    "        print(data4[col].dtype)\n",
    "        data4[col] = data4[col].astype(float)\n",
    "print(missing)\n",
    "data4.dtypes"
   ],
   "metadata": {
    "collapsed": false,
    "ExecuteTime": {
     "start_time": "2023-10-02T17:57:18.045236Z",
     "end_time": "2023-10-02T17:57:18.076074Z"
    }
   }
  },
  {
   "cell_type": "markdown",
   "source": [
    "4.Нормалізуйте дані перед подальшим використанням"
   ],
   "metadata": {
    "collapsed": false
   }
  },
  {
   "cell_type": "code",
   "execution_count": 46,
   "outputs": [
    {
     "data": {
      "text/plain": "        price      area  bedrooms  bathrooms\n0    1.000000  0.396564       0.6   0.333333\n1    0.909091  0.502405       0.6   1.000000\n2    0.909091  0.571134       0.4   0.333333\n3    0.906061  0.402062       0.6   0.333333\n4    0.836364  0.396564       0.6   0.000000\n..        ...       ...       ...        ...\n540  0.006061  0.092784       0.2   0.000000\n541  0.001485  0.051546       0.4   0.000000\n542  0.000000  0.135395       0.2   0.000000\n543  0.000000  0.086598       0.4   0.000000\n544  0.000000  0.151203       0.4   0.000000\n\n[545 rows x 4 columns]",
      "text/html": "<div>\n<style scoped>\n    .dataframe tbody tr th:only-of-type {\n        vertical-align: middle;\n    }\n\n    .dataframe tbody tr th {\n        vertical-align: top;\n    }\n\n    .dataframe thead th {\n        text-align: right;\n    }\n</style>\n<table border=\"1\" class=\"dataframe\">\n  <thead>\n    <tr style=\"text-align: right;\">\n      <th></th>\n      <th>price</th>\n      <th>area</th>\n      <th>bedrooms</th>\n      <th>bathrooms</th>\n    </tr>\n  </thead>\n  <tbody>\n    <tr>\n      <th>0</th>\n      <td>1.000000</td>\n      <td>0.396564</td>\n      <td>0.6</td>\n      <td>0.333333</td>\n    </tr>\n    <tr>\n      <th>1</th>\n      <td>0.909091</td>\n      <td>0.502405</td>\n      <td>0.6</td>\n      <td>1.000000</td>\n    </tr>\n    <tr>\n      <th>2</th>\n      <td>0.909091</td>\n      <td>0.571134</td>\n      <td>0.4</td>\n      <td>0.333333</td>\n    </tr>\n    <tr>\n      <th>3</th>\n      <td>0.906061</td>\n      <td>0.402062</td>\n      <td>0.6</td>\n      <td>0.333333</td>\n    </tr>\n    <tr>\n      <th>4</th>\n      <td>0.836364</td>\n      <td>0.396564</td>\n      <td>0.6</td>\n      <td>0.000000</td>\n    </tr>\n    <tr>\n      <th>...</th>\n      <td>...</td>\n      <td>...</td>\n      <td>...</td>\n      <td>...</td>\n    </tr>\n    <tr>\n      <th>540</th>\n      <td>0.006061</td>\n      <td>0.092784</td>\n      <td>0.2</td>\n      <td>0.000000</td>\n    </tr>\n    <tr>\n      <th>541</th>\n      <td>0.001485</td>\n      <td>0.051546</td>\n      <td>0.4</td>\n      <td>0.000000</td>\n    </tr>\n    <tr>\n      <th>542</th>\n      <td>0.000000</td>\n      <td>0.135395</td>\n      <td>0.2</td>\n      <td>0.000000</td>\n    </tr>\n    <tr>\n      <th>543</th>\n      <td>0.000000</td>\n      <td>0.086598</td>\n      <td>0.4</td>\n      <td>0.000000</td>\n    </tr>\n    <tr>\n      <th>544</th>\n      <td>0.000000</td>\n      <td>0.151203</td>\n      <td>0.4</td>\n      <td>0.000000</td>\n    </tr>\n  </tbody>\n</table>\n<p>545 rows × 4 columns</p>\n</div>"
     },
     "execution_count": 46,
     "metadata": {},
     "output_type": "execute_result"
    }
   ],
   "source": [
    "#normalized_df=(data4-data4.mean())/data4.std() нормалізація через середнє значення (обміркувати доцільність використання)\n",
    "normalized_df = (data4 - data4.min()) / (data4.max() - data4.min())\n",
    "normalized_df"
   ],
   "metadata": {
    "collapsed": false,
    "ExecuteTime": {
     "start_time": "2023-10-02T17:57:20.798129Z",
     "end_time": "2023-10-02T17:57:20.812040Z"
    }
   }
  },
  {
   "cell_type": "markdown",
   "source": [
    "5.Розділіть дані на навчальний та тестовий набори для подальшого оцінювання моделі.\n",
    "6.Підготуйте дані: виберіть атрибути (площа, кількість ванних кімнат, кількість спалень) та цільову змінну (ціну на будинок)."
   ],
   "metadata": {
    "collapsed": false
   }
  },
  {
   "cell_type": "code",
   "execution_count": 47,
   "outputs": [
    {
     "name": "stdout",
     "output_type": "stream",
     "text": [
      "train X: (436, 3)\n",
      "test X: (109, 3)\n",
      "train y: (436,)\n",
      "test y: (109,)\n"
     ]
    }
   ],
   "source": [
    "X = data4 [['area', 'bathrooms', 'bedrooms']].values\n",
    "y = data4 ['price'].values\n",
    "X_train, X_test, y_train, y_test = train_test_split(X, y, test_size=0.2, random_state=49)\n",
    "print(\"train X:\", X_train.shape)\n",
    "print(\"test X:\", X_test.shape)\n",
    "print(\"train y:\", y_train.shape)\n",
    "print(\"test y:\", y_test.shape)"
   ],
   "metadata": {
    "collapsed": false,
    "ExecuteTime": {
     "start_time": "2023-10-02T17:57:23.969354Z",
     "end_time": "2023-10-02T17:57:23.980258Z"
    }
   }
  },
  {
   "cell_type": "markdown",
   "source": [
    "7.Побудуйте модель лінійної регресії та навчіть її на навчальних даних."
   ],
   "metadata": {
    "collapsed": false
   }
  },
  {
   "cell_type": "code",
   "execution_count": 49,
   "outputs": [
    {
     "data": {
      "text/plain": "LinearRegression()",
      "text/html": "<style>#sk-container-id-2 {color: black;}#sk-container-id-2 pre{padding: 0;}#sk-container-id-2 div.sk-toggleable {background-color: white;}#sk-container-id-2 label.sk-toggleable__label {cursor: pointer;display: block;width: 100%;margin-bottom: 0;padding: 0.3em;box-sizing: border-box;text-align: center;}#sk-container-id-2 label.sk-toggleable__label-arrow:before {content: \"▸\";float: left;margin-right: 0.25em;color: #696969;}#sk-container-id-2 label.sk-toggleable__label-arrow:hover:before {color: black;}#sk-container-id-2 div.sk-estimator:hover label.sk-toggleable__label-arrow:before {color: black;}#sk-container-id-2 div.sk-toggleable__content {max-height: 0;max-width: 0;overflow: hidden;text-align: left;background-color: #f0f8ff;}#sk-container-id-2 div.sk-toggleable__content pre {margin: 0.2em;color: black;border-radius: 0.25em;background-color: #f0f8ff;}#sk-container-id-2 input.sk-toggleable__control:checked~div.sk-toggleable__content {max-height: 200px;max-width: 100%;overflow: auto;}#sk-container-id-2 input.sk-toggleable__control:checked~label.sk-toggleable__label-arrow:before {content: \"▾\";}#sk-container-id-2 div.sk-estimator input.sk-toggleable__control:checked~label.sk-toggleable__label {background-color: #d4ebff;}#sk-container-id-2 div.sk-label input.sk-toggleable__control:checked~label.sk-toggleable__label {background-color: #d4ebff;}#sk-container-id-2 input.sk-hidden--visually {border: 0;clip: rect(1px 1px 1px 1px);clip: rect(1px, 1px, 1px, 1px);height: 1px;margin: -1px;overflow: hidden;padding: 0;position: absolute;width: 1px;}#sk-container-id-2 div.sk-estimator {font-family: monospace;background-color: #f0f8ff;border: 1px dotted black;border-radius: 0.25em;box-sizing: border-box;margin-bottom: 0.5em;}#sk-container-id-2 div.sk-estimator:hover {background-color: #d4ebff;}#sk-container-id-2 div.sk-parallel-item::after {content: \"\";width: 100%;border-bottom: 1px solid gray;flex-grow: 1;}#sk-container-id-2 div.sk-label:hover label.sk-toggleable__label {background-color: #d4ebff;}#sk-container-id-2 div.sk-serial::before {content: \"\";position: absolute;border-left: 1px solid gray;box-sizing: border-box;top: 0;bottom: 0;left: 50%;z-index: 0;}#sk-container-id-2 div.sk-serial {display: flex;flex-direction: column;align-items: center;background-color: white;padding-right: 0.2em;padding-left: 0.2em;position: relative;}#sk-container-id-2 div.sk-item {position: relative;z-index: 1;}#sk-container-id-2 div.sk-parallel {display: flex;align-items: stretch;justify-content: center;background-color: white;position: relative;}#sk-container-id-2 div.sk-item::before, #sk-container-id-2 div.sk-parallel-item::before {content: \"\";position: absolute;border-left: 1px solid gray;box-sizing: border-box;top: 0;bottom: 0;left: 50%;z-index: -1;}#sk-container-id-2 div.sk-parallel-item {display: flex;flex-direction: column;z-index: 1;position: relative;background-color: white;}#sk-container-id-2 div.sk-parallel-item:first-child::after {align-self: flex-end;width: 50%;}#sk-container-id-2 div.sk-parallel-item:last-child::after {align-self: flex-start;width: 50%;}#sk-container-id-2 div.sk-parallel-item:only-child::after {width: 0;}#sk-container-id-2 div.sk-dashed-wrapped {border: 1px dashed gray;margin: 0 0.4em 0.5em 0.4em;box-sizing: border-box;padding-bottom: 0.4em;background-color: white;}#sk-container-id-2 div.sk-label label {font-family: monospace;font-weight: bold;display: inline-block;line-height: 1.2em;}#sk-container-id-2 div.sk-label-container {text-align: center;}#sk-container-id-2 div.sk-container {/* jupyter's `normalize.less` sets `[hidden] { display: none; }` but bootstrap.min.css set `[hidden] { display: none !important; }` so we also need the `!important` here to be able to override the default hidden behavior on the sphinx rendered scikit-learn.org. See: https://github.com/scikit-learn/scikit-learn/issues/21755 */display: inline-block !important;position: relative;}#sk-container-id-2 div.sk-text-repr-fallback {display: none;}</style><div id=\"sk-container-id-2\" class=\"sk-top-container\"><div class=\"sk-text-repr-fallback\"><pre>LinearRegression()</pre><b>In a Jupyter environment, please rerun this cell to show the HTML representation or trust the notebook. <br />On GitHub, the HTML representation is unable to render, please try loading this page with nbviewer.org.</b></div><div class=\"sk-container\" hidden><div class=\"sk-item\"><div class=\"sk-estimator sk-toggleable\"><input class=\"sk-toggleable__control sk-hidden--visually\" id=\"sk-estimator-id-2\" type=\"checkbox\" checked><label for=\"sk-estimator-id-2\" class=\"sk-toggleable__label sk-toggleable__label-arrow\">LinearRegression</label><div class=\"sk-toggleable__content\"><pre>LinearRegression()</pre></div></div></div></div></div>"
     },
     "execution_count": 49,
     "metadata": {},
     "output_type": "execute_result"
    }
   ],
   "source": [
    "lin_model = LinearRegression()\n",
    "lin_model.fit(X_train,y_train)"
   ],
   "metadata": {
    "collapsed": false,
    "ExecuteTime": {
     "start_time": "2023-10-02T17:59:42.007044Z",
     "end_time": "2023-10-02T17:59:42.017540Z"
    }
   }
  },
  {
   "cell_type": "markdown",
   "source": [
    "8.Оцініть якість моделі на тестових даних, використовуючи показники, такі як середньоквадратична помилка (RMSE) та коефіцієнт детермінації (R^2)."
   ],
   "metadata": {
    "collapsed": false
   }
  },
  {
   "cell_type": "code",
   "execution_count": 50,
   "outputs": [
    {
     "name": "stdout",
     "output_type": "stream",
     "text": [
      "rmse: 1186462.0521385628\n",
      "R^2: 0.517086665205803\n"
     ]
    }
   ],
   "source": [
    "y_pred = lin_model.predict(X_test)\n",
    "mse = mean_squared_error(y_test, y_pred)\n",
    "r2 = r2_score(y_test, y_pred)\n",
    "print(f\"rmse: {np.sqrt(mse)}\")\n",
    "print(f\"R^2: {r2}\")"
   ],
   "metadata": {
    "collapsed": false,
    "ExecuteTime": {
     "start_time": "2023-10-02T18:03:00.582446Z",
     "end_time": "2023-10-02T18:03:00.599423Z"
    }
   }
  },
  {
   "cell_type": "markdown",
   "source": [
    "9.Потім застосуйте крос-валідацію для підвищення якості моделі. Порівняйте результати (без крос-валідації і з крос-валідацією)."
   ],
   "metadata": {
    "collapsed": false
   }
  },
  {
   "cell_type": "code",
   "execution_count": 61,
   "outputs": [
    {
     "name": "stdout",
     "output_type": "stream",
     "text": [
      "0.44801504505497186\n"
     ]
    }
   ],
   "source": [
    "val = cross_val_score(lin_model, X_train, y_train, cv=5)\n",
    "print(np.mean(val))"
   ],
   "metadata": {
    "collapsed": false,
    "ExecuteTime": {
     "start_time": "2023-10-02T19:36:14.932276Z",
     "end_time": "2023-10-02T19:36:14.964357Z"
    }
   }
  },
  {
   "cell_type": "markdown",
   "source": [
    "10.Виконайте аналіз результатів та виведіть прогнозовані ціни на будинки для тестового набору даних."
   ],
   "metadata": {
    "collapsed": false
   }
  },
  {
   "cell_type": "code",
   "execution_count": 56,
   "outputs": [
    {
     "name": "stdout",
     "output_type": "stream",
     "text": [
      "[ 7189594.2288895   4036629.82925535  3492430.0127935   3750380.20175933\n",
      "  3293641.07008599  6264454.54090435  4314015.72595197  4352887.14141353\n",
      "  4974829.78879851  3647915.67463974  5906837.51865798  3342230.33941294\n",
      "  5770787.56454252  4293181.17130166  5862680.11473074  6712874.66563183\n",
      "  6567651.58150452  3173684.4060087   3563797.40754384  4225156.19424392\n",
      "  4681583.3065194   3540474.5582669   3103715.85817789  4203776.91574007\n",
      "  3589452.54174847  4041915.81772104  3414687.18187038  4526902.26977257\n",
      "  4974829.78879851  4694955.59747527  4158530.06410572  5202772.29310219\n",
      "  3601269.97608587  4233784.60040222  5208058.28156787  3099828.71663173\n",
      "  6572937.56997021  3865050.87737094  5130315.45064475  3254769.65462443\n",
      "  6102100.83718378  4624987.04964446  4215282.3306796   3243108.22998596\n",
      "  4292091.72359456  7423728.96287685  6276115.96554281  4737169.43062943\n",
      "  3842272.75194755  4935052.13211896  5062290.47358702  3651802.8161859\n",
      "  4269858.32202472  7314475.36406804  3865595.60122448  6762008.65881233\n",
      "  3197007.25528563  6180336.27380844  3243108.22998596  5199377.75725757\n",
      "  3645427.38001312  3808687.32495167  3777590.19258242  6182279.84458152\n",
      "  4295978.86514072  3371383.90100911  6975801.44385091  6800880.07427389\n",
      "  5335660.41582872  4430629.97233665  3305847.218578    2651252.58220532\n",
      "  5616208.14391426  4241558.88349453  5451858.75126861  6671670.96524257\n",
      "  3686787.0901013   6029643.99472634  4545300.64794826  6101194.59596579\n",
      "  3248938.94230519  3420906.60834423  4026367.25153641  2909358.78087008\n",
      "  5388265.63961058  4158530.06410572  4319301.71441765  5374299.1268346\n",
      "  2980882.18531935  3870881.58969017  3350549.3463588   5989866.33804679\n",
      "  3762041.6263978   2987101.6117932   3053183.01807786  4580829.64571721\n",
      "  3622104.53073618  3964172.98679792  3628479.96690896  7220691.36125875\n",
      "  5989866.33804679  5113860.64324214 12369158.22099051  4321790.00904428\n",
      "  6101194.59596579  5556994.77950393  4166304.34719803  4241558.88349453\n",
      "  4158530.06410572]\n"
     ]
    }
   ],
   "source": [
    "y_pred = lin_model.predict(X_test)\n",
    "print(y_pred)"
   ],
   "metadata": {
    "collapsed": false,
    "ExecuteTime": {
     "start_time": "2023-10-02T18:53:53.616622Z",
     "end_time": "2023-10-02T18:53:53.638799Z"
    }
   }
  },
  {
   "cell_type": "markdown",
   "source": [
    "11.Визначте аналітично коефіцієнти лінійної регресії (ваги моделі) для цієї задачі, використовуючи формулу для спрощеного аналітичного рішення лінійної регресії."
   ],
   "metadata": {
    "collapsed": false
   }
  },
  {
   "cell_type": "code",
   "execution_count": 60,
   "outputs": [
    {
     "name": "stdout",
     "output_type": "stream",
     "text": [
      "[-3.65505854e+05  3.88714155e+02  1.35959330e+06  4.71742974e+05]\n"
     ]
    }
   ],
   "source": [
    "#coef_df = pd.DataFrame(zip(X, lin_model.coef_))\n",
    "#print(coef_df)\n",
    "X_train_analyt = np.hstack([np.ones((X_train.shape[0],1)), X_train])\n",
    "coeff_analyt = np.linalg.inv(X_train_analyt.T.dot(X_train_analyt)).dot(X_train_analyt.T).dot(y_train)\n",
    "print(coeff_analyt)\n"
   ],
   "metadata": {
    "collapsed": false,
    "ExecuteTime": {
     "start_time": "2023-10-02T19:23:32.999807Z",
     "end_time": "2023-10-02T19:23:33.024959Z"
    }
   }
  },
  {
   "cell_type": "markdown",
   "source": [
    "12.Візуалізуйте дані та результати регресії: побудуйте графіки для ознайомлення з розподілом даних і лінійною регресійною моделлю"
   ],
   "metadata": {
    "collapsed": false
   }
  },
  {
   "cell_type": "code",
   "execution_count": 64,
   "outputs": [
    {
     "data": {
      "text/plain": "<Figure size 640x480 with 1 Axes>",
      "image/png": "[encoded data removed]"
     },
     "metadata": {},
     "output_type": "display_data"
    }
   ],
   "source": [
    "plt.scatter(X_test[:,0], y_test, label='Real price', alpha=0.5)\n",
    "plt.scatter(X_test[:,0], y_pred, label='Predicted price', alpha = 0.5)\n",
    "plt.xlabel('Square')\n",
    "plt.ylabel('Price')\n",
    "plt.legend()\n",
    "plt.show()\n"
   ],
   "metadata": {
    "collapsed": false,
    "ExecuteTime": {
     "start_time": "2023-10-02T19:42:00.016064Z",
     "end_time": "2023-10-02T19:42:00.142687Z"
    }
   }
  },
  {
   "cell_type": "markdown",
   "source": [
    "Висновок:Лінійна регресія є ефективним методом для прогнозування цін на будинки. Це підтверджується результатами аналізу даних та візуалізації.Порівняння отриманих параметрів лінійної регресії з аналітичними результатами показало, що вони відносно приблизно схожі.Можна зробити висновок, що лінійна регресія є ефективним методом для прогнозування цін на будинки на основі вказаних атрибутів. Ця модель може бути використана для прогнозування цін на будинки в різних районах міста.Також на мою думку, якщо використати більш складі моделі це може допомогти зробити прогнозування цін більш точнішим."
   ],
   "metadata": {
    "collapsed": false
   }
  }
 ],
 "metadata": {
  "kernelspec": {
   "display_name": "Python 3",
   "language": "python",
   "name": "python3"
  },
  "language_info": {
   "codemirror_mode": {
    "name": "ipython",
    "version": 2
   },
   "file_extension": ".py",
   "mimetype": "text/x-python",
   "name": "python",
   "nbconvert_exporter": "python",
   "pygments_lexer": "ipython2",
   "version": "2.7.6"
  }
 },
 "nbformat": 4,
 "nbformat_minor": 0
}
